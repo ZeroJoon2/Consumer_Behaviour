{
 "cells": [
  {
   "cell_type": "code",
   "execution_count": 1,
   "id": "b70d851a",
   "metadata": {
    "scrolled": true
   },
   "outputs": [
    {
     "name": "stdout",
     "output_type": "stream",
     "text": [
      "Defaulting to user installation because normal site-packages is not writeable\n",
      "Collecting google-api-python-client\n",
      "  Downloading google_api_python_client-2.52.0-py2.py3-none-any.whl (8.7 MB)\n",
      "     |████████████████████████████████| 8.7 MB 25.1 MB/s            \n",
      "\u001b[?25hCollecting google-auth-httplib2>=0.1.0\n",
      "  Downloading google_auth_httplib2-0.2.0-py2.py3-none-any.whl (9.3 kB)\n",
      "Collecting google-api-core!=2.0.*,!=2.1.*,!=2.2.*,!=2.3.0,<3.0.0dev,>=1.31.5\n",
      "  Downloading google_api_core-2.8.2-py3-none-any.whl (114 kB)\n",
      "     |████████████████████████████████| 114 kB 106.8 MB/s            \n",
      "\u001b[?25hRequirement already satisfied: httplib2<1dev,>=0.15.0 in /usr/local/lib/python3.6/dist-packages (from google-api-python-client) (0.20.4)\n",
      "Collecting uritemplate<5,>=3.0.1\n",
      "  Downloading uritemplate-4.1.1-py2.py3-none-any.whl (10 kB)\n",
      "Collecting google-auth<3.0.0dev,>=1.19.0\n",
      "  Downloading google_auth-2.22.0-py2.py3-none-any.whl (181 kB)\n",
      "     |████████████████████████████████| 181 kB 100.4 MB/s            \n",
      "\u001b[?25hRequirement already satisfied: protobuf<5.0.0dev,>=3.15.0 in /usr/local/lib/python3.6/dist-packages (from google-api-core!=2.0.*,!=2.1.*,!=2.2.*,!=2.3.0,<3.0.0dev,>=1.31.5->google-api-python-client) (3.19.4)\n",
      "Collecting googleapis-common-protos<2.0dev,>=1.56.2\n",
      "  Downloading googleapis_common_protos-1.56.3-py2.py3-none-any.whl (211 kB)\n",
      "     |████████████████████████████████| 211 kB 110.2 MB/s            \n",
      "\u001b[?25hRequirement already satisfied: requests<3.0.0dev,>=2.18.0 in /usr/local/lib/python3.6/dist-packages (from google-api-core!=2.0.*,!=2.1.*,!=2.2.*,!=2.3.0,<3.0.0dev,>=1.31.5->google-api-python-client) (2.27.1)\n",
      "Collecting cachetools<6.0,>=2.0.0\n",
      "  Downloading cachetools-4.2.4-py3-none-any.whl (10 kB)\n",
      "Requirement already satisfied: rsa<5,>=3.1.4 in /usr/local/lib/python3.6/dist-packages (from google-auth<3.0.0dev,>=1.19.0->google-api-python-client) (4.7.2)\n",
      "Requirement already satisfied: pyasn1-modules>=0.2.1 in /usr/lib/python3/dist-packages (from google-auth<3.0.0dev,>=1.19.0->google-api-python-client) (0.2.1)\n",
      "Requirement already satisfied: urllib3<2.0 in /usr/local/lib/python3.6/dist-packages (from google-auth<3.0.0dev,>=1.19.0->google-api-python-client) (1.26.9)\n",
      "Requirement already satisfied: six>=1.9.0 in /usr/local/lib/python3.6/dist-packages (from google-auth<3.0.0dev,>=1.19.0->google-api-python-client) (1.16.0)\n",
      "Requirement already satisfied: pyparsing!=3.0.0,!=3.0.1,!=3.0.2,!=3.0.3,<4,>=2.4.2 in /usr/local/lib/python3.6/dist-packages (from httplib2<1dev,>=0.15.0->google-api-python-client) (3.0.9)\n",
      "Requirement already satisfied: charset-normalizer~=2.0.0 in /usr/local/lib/python3.6/dist-packages (from requests<3.0.0dev,>=2.18.0->google-api-core!=2.0.*,!=2.1.*,!=2.2.*,!=2.3.0,<3.0.0dev,>=1.31.5->google-api-python-client) (2.0.12)\n",
      "Requirement already satisfied: idna<4,>=2.5 in /usr/local/lib/python3.6/dist-packages (from requests<3.0.0dev,>=2.18.0->google-api-core!=2.0.*,!=2.1.*,!=2.2.*,!=2.3.0,<3.0.0dev,>=1.31.5->google-api-python-client) (3.3)\n",
      "Requirement already satisfied: certifi>=2017.4.17 in /usr/local/lib/python3.6/dist-packages (from requests<3.0.0dev,>=2.18.0->google-api-core!=2.0.*,!=2.1.*,!=2.2.*,!=2.3.0,<3.0.0dev,>=1.31.5->google-api-python-client) (2022.5.18.1)\n",
      "Requirement already satisfied: pyasn1>=0.1.3 in /usr/local/lib/python3.6/dist-packages (from rsa<5,>=3.1.4->google-auth<3.0.0dev,>=1.19.0->google-api-python-client) (0.4.8)\n",
      "Installing collected packages: cachetools, googleapis-common-protos, google-auth, uritemplate, google-auth-httplib2, google-api-core, google-api-python-client\n",
      "Successfully installed cachetools-4.2.4 google-api-core-2.8.2 google-api-python-client-2.52.0 google-auth-2.22.0 google-auth-httplib2-0.2.0 googleapis-common-protos-1.56.3 uritemplate-4.1.1\n"
     ]
    }
   ],
   "source": [
    "!pip install google-api-python-client"
   ]
  },
  {
   "cell_type": "markdown",
   "id": "35188908",
   "metadata": {},
   "source": [
    "## youtube api로 데이터 수집"
   ]
  },
  {
   "cell_type": "markdown",
   "id": "c247ee1a",
   "metadata": {},
   "source": [
    "### 필드 목록\n",
    "- video_id: 비디오 ID (고유 식별자)\n",
    "- title: 비디오 제목\n",
    "- published_at: 비디오 업로드 날짜\n",
    "- channel_title: 비디오가 업로드된 채널의 이름\n",
    "- comment: 댓글 내용\n",
    "- like_count: 댓글의 좋아요 개수\n",
    "- published_at: 댓글 작성 날짜"
   ]
  },
  {
   "cell_type": "code",
   "execution_count": null,
   "id": "a40ef5c4",
   "metadata": {},
   "outputs": [],
   "source": [
    "import csv\n",
    "import time\n",
    "import json\n",
    "import pandas as pd\n",
    "import os\n",
    "from dotenv import load_dotenv\n",
    "from googleapiclient.discovery import build\n",
    "\n",
    "load_dotenv()\n",
    "api_key = os.getenv('YOUTUBE_API_KEY')\n",
    "youtube = build('youtube', 'v3', developerKey=api_key)"
   ]
  },
  {
   "cell_type": "markdown",
   "id": "5cc38b7f",
   "metadata": {},
   "source": [
    "### 갤럭시 S24 리뷰"
   ]
  },
  {
   "cell_type": "code",
   "execution_count": 2,
   "id": "dc118b98",
   "metadata": {},
   "outputs": [
    {
     "name": "stdout",
     "output_type": "stream",
     "text": [
      "저장 완료\n"
     ]
    }
   ],
   "source": [
    "search_query = '갤럭시 S24 리뷰'\n",
    "request = youtube.search().list(\n",
    "    q=search_query,  \n",
    "    part='snippet',\n",
    "    type='video',    \n",
    "    maxResults=50, \n",
    "    order='viewCount',\n",
    "    publishedAfter='2024-01-17T00:00:00Z'\n",
    ")\n",
    "search_response = request.execute()\n",
    "\n",
    "\n",
    "video_data = [\n",
    "    {\n",
    "        'video_id': item['id']['videoId'],\n",
    "        'title': item['snippet']['title'],\n",
    "        'published_at': item['snippet']['publishedAt'],  \n",
    "        'channel_title': item['snippet']['channelTitle'] \n",
    "    }\n",
    "    for item in search_response['items']\n",
    "]\n",
    "\n",
    "def get_all_comments(video_id):\n",
    "    comments = []\n",
    "    next_page_token = None\n",
    "    while True:\n",
    "        request = youtube.commentThreads().list(\n",
    "            part='snippet',\n",
    "            videoId=video_id,\n",
    "            textFormat='plainText',\n",
    "            pageToken=next_page_token  \n",
    "        )\n",
    "        response = request.execute()\n",
    "\n",
    "        for item in response['items']:\n",
    "            comment = item['snippet']['topLevelComment']['snippet']['textDisplay']\n",
    "            like_count = item['snippet']['topLevelComment']['snippet']['likeCount']  \n",
    "            published_at = item['snippet']['topLevelComment']['snippet']['publishedAt']  \n",
    "            comments.append({'comment': comment, 'like_count': like_count, 'published_at': published_at})\n",
    "\n",
    "        next_page_token = response.get('nextPageToken')\n",
    "        if not next_page_token:\n",
    "            break\n",
    "\n",
    "    return comments\n",
    "\n",
    "all_comments = {}\n",
    "for video in video_data:\n",
    "    video_id = video['video_id']\n",
    "    title = video['title']\n",
    "    published_at = video['published_at']\n",
    "    channel_title = video['channel_title']\n",
    "    comments = get_all_comments(video_id)\n",
    "    all_comments[video_id] = {\n",
    "        'title': title,\n",
    "        'published_at': published_at,\n",
    "        'channel_title': channel_title,\n",
    "        'comments': comments\n",
    "    }\n",
    "    \n",
    "with open('youtube_s24_1.json', 'w', encoding='utf-8') as f:\n",
    "    json.dump(all_comments, f, ensure_ascii=False, indent=4)\n",
    "\n",
    "print('저장 완료')"
   ]
  },
  {
   "cell_type": "code",
   "execution_count": 17,
   "id": "59eb14a8",
   "metadata": {},
   "outputs": [
    {
     "name": "stdout",
     "output_type": "stream",
     "text": [
      "CSV 파일 저장 완료\n"
     ]
    }
   ],
   "source": [
    "with open('youtube_s24_1.json', 'r', encoding='utf-8') as f:\n",
    "    data = json.load(f)\n",
    "\n",
    "rows = []\n",
    "for video_id, video_info in data.items():\n",
    "    title = video_info['title']\n",
    "    published_at = video_info['published_at']\n",
    "    channel_title = video_info['channel_title']\n",
    "    for comment_info in video_info['comments']:\n",
    "        comment = comment_info['comment']\n",
    "        like_count = comment_info['like_count']\n",
    "        comment_published_at = comment_info['published_at']\n",
    "        rows.append([video_id, title, published_at, channel_title, comment, like_count, comment_published_at])\n",
    "\n",
    "df = pd.DataFrame(rows, columns=['video_id', 'title', 'publish_date', 'channel_name', 'comment', 'like_count', 'comment_publish_date'])\n",
    "df.to_csv('youtube_s24_1.csv', index=False, encoding='utf-8-sig')\n",
    "\n",
    "print('CSV 파일 저장 완료')"
   ]
  },
  {
   "cell_type": "code",
   "execution_count": 12,
   "id": "80b8b5aa",
   "metadata": {},
   "outputs": [
    {
     "data": {
      "text/html": [
       "<div>\n",
       "<style scoped>\n",
       "    .dataframe tbody tr th:only-of-type {\n",
       "        vertical-align: middle;\n",
       "    }\n",
       "\n",
       "    .dataframe tbody tr th {\n",
       "        vertical-align: top;\n",
       "    }\n",
       "\n",
       "    .dataframe thead th {\n",
       "        text-align: right;\n",
       "    }\n",
       "</style>\n",
       "<table border=\"1\" class=\"dataframe\">\n",
       "  <thead>\n",
       "    <tr style=\"text-align: right;\">\n",
       "      <th></th>\n",
       "      <th>Video ID</th>\n",
       "      <th>Title</th>\n",
       "      <th>Published At</th>\n",
       "      <th>Channel Title</th>\n",
       "      <th>Comment</th>\n",
       "      <th>Like Count</th>\n",
       "      <th>Comment Published At</th>\n",
       "    </tr>\n",
       "  </thead>\n",
       "  <tbody>\n",
       "    <tr>\n",
       "      <th>25029</th>\n",
       "      <td>PkcH00u1uYE</td>\n",
       "      <td>[단독 공개] 갤럭시 A35 2주 실사용 장단점 리뷰</td>\n",
       "      <td>2024-06-20T11:53:54Z</td>\n",
       "      <td>티노</td>\n",
       "      <td>굿</td>\n",
       "      <td>0</td>\n",
       "      <td>2024-06-20T11:56:07Z</td>\n",
       "    </tr>\n",
       "    <tr>\n",
       "      <th>25030</th>\n",
       "      <td>PkcH00u1uYE</td>\n",
       "      <td>[단독 공개] 갤럭시 A35 2주 실사용 장단점 리뷰</td>\n",
       "      <td>2024-06-20T11:53:54Z</td>\n",
       "      <td>티노</td>\n",
       "      <td>궁금해서 기다리고 있었어요!</td>\n",
       "      <td>3</td>\n",
       "      <td>2024-06-20T11:55:37Z</td>\n",
       "    </tr>\n",
       "    <tr>\n",
       "      <th>25031</th>\n",
       "      <td>PkcH00u1uYE</td>\n",
       "      <td>[단독 공개] 갤럭시 A35 2주 실사용 장단점 리뷰</td>\n",
       "      <td>2024-06-20T11:53:54Z</td>\n",
       "      <td>티노</td>\n",
       "      <td>아이패드 혹시 언제...</td>\n",
       "      <td>1</td>\n",
       "      <td>2024-06-20T11:54:45Z</td>\n",
       "    </tr>\n",
       "    <tr>\n",
       "      <th>25032</th>\n",
       "      <td>PkcH00u1uYE</td>\n",
       "      <td>[단독 공개] 갤럭시 A35 2주 실사용 장단점 리뷰</td>\n",
       "      <td>2024-06-20T11:53:54Z</td>\n",
       "      <td>티노</td>\n",
       "      <td>❤</td>\n",
       "      <td>0</td>\n",
       "      <td>2024-06-20T11:54:24Z</td>\n",
       "    </tr>\n",
       "    <tr>\n",
       "      <th>25033</th>\n",
       "      <td>PkcH00u1uYE</td>\n",
       "      <td>[단독 공개] 갤럭시 A35 2주 실사용 장단점 리뷰</td>\n",
       "      <td>2024-06-20T11:53:54Z</td>\n",
       "      <td>티노</td>\n",
       "      <td>1</td>\n",
       "      <td>0</td>\n",
       "      <td>2024-06-20T11:54:17Z</td>\n",
       "    </tr>\n",
       "  </tbody>\n",
       "</table>\n",
       "</div>"
      ],
      "text/plain": [
       "          Video ID                          Title          Published At  \\\n",
       "25029  PkcH00u1uYE  [단독 공개] 갤럭시 A35 2주 실사용 장단점 리뷰  2024-06-20T11:53:54Z   \n",
       "25030  PkcH00u1uYE  [단독 공개] 갤럭시 A35 2주 실사용 장단점 리뷰  2024-06-20T11:53:54Z   \n",
       "25031  PkcH00u1uYE  [단독 공개] 갤럭시 A35 2주 실사용 장단점 리뷰  2024-06-20T11:53:54Z   \n",
       "25032  PkcH00u1uYE  [단독 공개] 갤럭시 A35 2주 실사용 장단점 리뷰  2024-06-20T11:53:54Z   \n",
       "25033  PkcH00u1uYE  [단독 공개] 갤럭시 A35 2주 실사용 장단점 리뷰  2024-06-20T11:53:54Z   \n",
       "\n",
       "      Channel Title          Comment  Like Count  Comment Published At  \n",
       "25029            티노                굿           0  2024-06-20T11:56:07Z  \n",
       "25030            티노  궁금해서 기다리고 있었어요!           3  2024-06-20T11:55:37Z  \n",
       "25031            티노    아이패드 혹시 언제...           1  2024-06-20T11:54:45Z  \n",
       "25032            티노                ❤           0  2024-06-20T11:54:24Z  \n",
       "25033            티노                1           0  2024-06-20T11:54:17Z  "
      ]
     },
     "execution_count": 12,
     "metadata": {},
     "output_type": "execute_result"
    }
   ],
   "source": [
    "df.tail()"
   ]
  },
  {
   "cell_type": "markdown",
   "id": "48145ae7",
   "metadata": {},
   "source": [
    "### 갤럭시 S24 후기"
   ]
  },
  {
   "cell_type": "code",
   "execution_count": 3,
   "id": "67aee7a7",
   "metadata": {},
   "outputs": [
    {
     "name": "stdout",
     "output_type": "stream",
     "text": [
      "저장 완료\n"
     ]
    }
   ],
   "source": [
    "search_query = '갤럭시 S24 후기'\n",
    "request = youtube.search().list(\n",
    "    q=search_query,  \n",
    "    part='snippet',\n",
    "    type='video',    \n",
    "    maxResults=50, \n",
    "    order='viewCount',\n",
    "    publishedAfter='2024-01-17T00:00:00Z'\n",
    ")\n",
    "search_response = request.execute()\n",
    "\n",
    "\n",
    "video_data = [\n",
    "    {\n",
    "        'video_id': item['id']['videoId'],\n",
    "        'title': item['snippet']['title'],\n",
    "        'published_at': item['snippet']['publishedAt'],  \n",
    "        'channel_title': item['snippet']['channelTitle'] \n",
    "    }\n",
    "    for item in search_response['items']\n",
    "]\n",
    "\n",
    "def get_all_comments(video_id):\n",
    "    comments = []\n",
    "    next_page_token = None\n",
    "    while True:\n",
    "        request = youtube.commentThreads().list(\n",
    "            part='snippet',\n",
    "            videoId=video_id,\n",
    "            textFormat='plainText',\n",
    "            pageToken=next_page_token \n",
    "        )\n",
    "        response = request.execute()\n",
    "\n",
    "        for item in response['items']:\n",
    "            comment = item['snippet']['topLevelComment']['snippet']['textDisplay']\n",
    "            like_count = item['snippet']['topLevelComment']['snippet']['likeCount']  \n",
    "            published_at = item['snippet']['topLevelComment']['snippet']['publishedAt'] \n",
    "            comments.append({'comment': comment, 'like_count': like_count, 'published_at': published_at})\n",
    "\n",
    "        next_page_token = response.get('nextPageToken')\n",
    "        if not next_page_token:\n",
    "            break\n",
    "\n",
    "    return comments\n",
    "\n",
    "all_comments = {}\n",
    "for video in video_data:\n",
    "    video_id = video['video_id']\n",
    "    title = video['title']\n",
    "    published_at = video['published_at']\n",
    "    channel_title = video['channel_title']\n",
    "    comments = get_all_comments(video_id)\n",
    "    all_comments[video_id] = {\n",
    "        'title': title,\n",
    "        'published_at': published_at,\n",
    "        'channel_title': channel_title,\n",
    "        'comments': comments\n",
    "    }\n",
    "    \n",
    "with open('youtube_s24_2.json', 'w', encoding='utf-8') as f:\n",
    "    json.dump(all_comments, f, ensure_ascii=False, indent=4)\n",
    "\n",
    "print('저장 완료')"
   ]
  },
  {
   "cell_type": "code",
   "execution_count": 18,
   "id": "5737105f",
   "metadata": {},
   "outputs": [
    {
     "name": "stdout",
     "output_type": "stream",
     "text": [
      "CSV 파일 저장 완료\n"
     ]
    }
   ],
   "source": [
    "with open('youtube_s24_2.json', 'r', encoding='utf-8') as f:\n",
    "    data = json.load(f)\n",
    "\n",
    "rows = []\n",
    "for video_id, video_info in data.items():\n",
    "    title = video_info['title']\n",
    "    published_at = video_info['published_at']\n",
    "    channel_title = video_info['channel_title']\n",
    "    for comment_info in video_info['comments']:\n",
    "        comment = comment_info['comment']\n",
    "        like_count = comment_info['like_count']\n",
    "        comment_published_at = comment_info['published_at']\n",
    "        rows.append([video_id, title, published_at, channel_title, comment, like_count, comment_published_at])\n",
    "\n",
    "df = pd.DataFrame(rows, columns=['video_id', 'title', 'publish_date', 'channel_name', 'comment', 'like_count', 'comment_publish_date'])\n",
    "df.to_csv('youtube_s24_2.csv', index=False, encoding='utf-8-sig')\n",
    "\n",
    "print('CSV 파일 저장 완료')"
   ]
  },
  {
   "cell_type": "code",
   "execution_count": 14,
   "id": "f7c2a531",
   "metadata": {},
   "outputs": [
    {
     "data": {
      "text/plain": [
       "(22085, 7)"
      ]
     },
     "execution_count": 14,
     "metadata": {},
     "output_type": "execute_result"
    }
   ],
   "source": [
    "df.shape"
   ]
  },
  {
   "cell_type": "code",
   "execution_count": 15,
   "id": "3510cfb6",
   "metadata": {},
   "outputs": [
    {
     "data": {
      "text/html": [
       "<div>\n",
       "<style scoped>\n",
       "    .dataframe tbody tr th:only-of-type {\n",
       "        vertical-align: middle;\n",
       "    }\n",
       "\n",
       "    .dataframe tbody tr th {\n",
       "        vertical-align: top;\n",
       "    }\n",
       "\n",
       "    .dataframe thead th {\n",
       "        text-align: right;\n",
       "    }\n",
       "</style>\n",
       "<table border=\"1\" class=\"dataframe\">\n",
       "  <thead>\n",
       "    <tr style=\"text-align: right;\">\n",
       "      <th></th>\n",
       "      <th>Video ID</th>\n",
       "      <th>Title</th>\n",
       "      <th>Published At</th>\n",
       "      <th>Channel Title</th>\n",
       "      <th>Comment</th>\n",
       "      <th>Like Count</th>\n",
       "      <th>Comment Published At</th>\n",
       "    </tr>\n",
       "  </thead>\n",
       "  <tbody>\n",
       "    <tr>\n",
       "      <th>0</th>\n",
       "      <td>BAytLn0NhpI</td>\n",
       "      <td>갤럭시 S24+ VS 갤럭시 S24 울트라 둘 중 무엇을 사야할까 고민된다면?</td>\n",
       "      <td>2024-02-05T11:30:05Z</td>\n",
       "      <td>ITSub잇섭</td>\n",
       "      <td>플러스 겁나 이쁘네</td>\n",
       "      <td>0</td>\n",
       "      <td>2025-01-20T04:33:14Z</td>\n",
       "    </tr>\n",
       "    <tr>\n",
       "      <th>1</th>\n",
       "      <td>BAytLn0NhpI</td>\n",
       "      <td>갤럭시 S24+ VS 갤럭시 S24 울트라 둘 중 무엇을 사야할까 고민된다면?</td>\n",
       "      <td>2024-02-05T11:30:05Z</td>\n",
       "      <td>ITSub잇섭</td>\n",
       "      <td>어쩜 이렇게 설명을 잘하지</td>\n",
       "      <td>0</td>\n",
       "      <td>2025-01-17T12:15:56Z</td>\n",
       "    </tr>\n",
       "    <tr>\n",
       "      <th>2</th>\n",
       "      <td>BAytLn0NhpI</td>\n",
       "      <td>갤럭시 S24+ VS 갤럭시 S24 울트라 둘 중 무엇을 사야할까 고민된다면?</td>\n",
       "      <td>2024-02-05T11:30:05Z</td>\n",
       "      <td>ITSub잇섭</td>\n",
       "      <td>S24플이랑 24울트라랑 고민ㅈㄴ되네</td>\n",
       "      <td>0</td>\n",
       "      <td>2025-01-17T10:58:47Z</td>\n",
       "    </tr>\n",
       "    <tr>\n",
       "      <th>3</th>\n",
       "      <td>BAytLn0NhpI</td>\n",
       "      <td>갤럭시 S24+ VS 갤럭시 S24 울트라 둘 중 무엇을 사야할까 고민된다면?</td>\n",
       "      <td>2024-02-05T11:30:05Z</td>\n",
       "      <td>ITSub잇섭</td>\n",
       "      <td>ㄱㅎ비용 ㅎㅅ이라돈없을것같아도 양ㄱ에서 ㅂ2억낙넉</td>\n",
       "      <td>0</td>\n",
       "      <td>2025-01-16T14:58:31Z</td>\n",
       "    </tr>\n",
       "    <tr>\n",
       "      <th>4</th>\n",
       "      <td>BAytLn0NhpI</td>\n",
       "      <td>갤럭시 S24+ VS 갤럭시 S24 울트라 둘 중 무엇을 사야할까 고민된다면?</td>\n",
       "      <td>2024-02-05T11:30:05Z</td>\n",
       "      <td>ITSub잇섭</td>\n",
       "      <td>8th 8F 8B</td>\n",
       "      <td>0</td>\n",
       "      <td>2025-01-09T07:46:38Z</td>\n",
       "    </tr>\n",
       "  </tbody>\n",
       "</table>\n",
       "</div>"
      ],
      "text/plain": [
       "      Video ID                                        Title  \\\n",
       "0  BAytLn0NhpI  갤럭시 S24+ VS 갤럭시 S24 울트라 둘 중 무엇을 사야할까 고민된다면?   \n",
       "1  BAytLn0NhpI  갤럭시 S24+ VS 갤럭시 S24 울트라 둘 중 무엇을 사야할까 고민된다면?   \n",
       "2  BAytLn0NhpI  갤럭시 S24+ VS 갤럭시 S24 울트라 둘 중 무엇을 사야할까 고민된다면?   \n",
       "3  BAytLn0NhpI  갤럭시 S24+ VS 갤럭시 S24 울트라 둘 중 무엇을 사야할까 고민된다면?   \n",
       "4  BAytLn0NhpI  갤럭시 S24+ VS 갤럭시 S24 울트라 둘 중 무엇을 사야할까 고민된다면?   \n",
       "\n",
       "           Published At Channel Title                      Comment  \\\n",
       "0  2024-02-05T11:30:05Z       ITSub잇섭                   플러스 겁나 이쁘네   \n",
       "1  2024-02-05T11:30:05Z       ITSub잇섭               어쩜 이렇게 설명을 잘하지   \n",
       "2  2024-02-05T11:30:05Z       ITSub잇섭         S24플이랑 24울트라랑 고민ㅈㄴ되네   \n",
       "3  2024-02-05T11:30:05Z       ITSub잇섭  ㄱㅎ비용 ㅎㅅ이라돈없을것같아도 양ㄱ에서 ㅂ2억낙넉   \n",
       "4  2024-02-05T11:30:05Z       ITSub잇섭                    8th 8F 8B   \n",
       "\n",
       "   Like Count  Comment Published At  \n",
       "0           0  2025-01-20T04:33:14Z  \n",
       "1           0  2025-01-17T12:15:56Z  \n",
       "2           0  2025-01-17T10:58:47Z  \n",
       "3           0  2025-01-16T14:58:31Z  \n",
       "4           0  2025-01-09T07:46:38Z  "
      ]
     },
     "execution_count": 15,
     "metadata": {},
     "output_type": "execute_result"
    }
   ],
   "source": [
    "df.head()"
   ]
  }
 ],
 "metadata": {
  "kernelspec": {
   "display_name": "Python (Project)",
   "language": "python",
   "name": "project"
  },
  "language_info": {
   "codemirror_mode": {
    "name": "ipython",
    "version": 3
   },
   "file_extension": ".py",
   "mimetype": "text/x-python",
   "name": "python",
   "nbconvert_exporter": "python",
   "pygments_lexer": "ipython3",
   "version": "3.8.0"
  }
 },
 "nbformat": 4,
 "nbformat_minor": 5
}
