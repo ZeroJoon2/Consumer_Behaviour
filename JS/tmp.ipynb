{
 "cells": [
  {
   "cell_type": "code",
   "execution_count": 34,
   "id": "f2530f63",
   "metadata": {},
   "outputs": [],
   "source": [
    "import pandas as pd\n",
    "pd.set_option('display.max_colwidth', None)\n",
    "\n",
    "import re\n",
    "from konlpy.tag import Okt\n",
    "from collections import Counter"
   ]
  },
  {
   "cell_type": "markdown",
   "id": "f64f2c66-1292-4173-a9da-7a9983639db9",
   "metadata": {},
   "source": [
    "## 임시로 갤럭시 S24 데이터만 분석"
   ]
  },
  {
   "cell_type": "code",
   "execution_count": 3,
   "id": "486f0d15",
   "metadata": {},
   "outputs": [
    {
     "name": "stdout",
     "output_type": "stream",
     "text": [
      "      video_id                                        title  \\\n",
      "0  BAytLn0NhpI  갤럭시 S24+ VS 갤럭시 S24 울트라 둘 중 무엇을 사야할까 고민된다면?   \n",
      "1  BAytLn0NhpI  갤럭시 S24+ VS 갤럭시 S24 울트라 둘 중 무엇을 사야할까 고민된다면?   \n",
      "2  BAytLn0NhpI  갤럭시 S24+ VS 갤럭시 S24 울트라 둘 중 무엇을 사야할까 고민된다면?   \n",
      "3  BAytLn0NhpI  갤럭시 S24+ VS 갤럭시 S24 울트라 둘 중 무엇을 사야할까 고민된다면?   \n",
      "4  BAytLn0NhpI  갤럭시 S24+ VS 갤럭시 S24 울트라 둘 중 무엇을 사야할까 고민된다면?   \n",
      "\n",
      "           publish_date channel_name                              comment  \\\n",
      "0  2024-02-05T11:30:05Z      ITSub잇섭                      두개 다 갖고 다니면 되겠네   \n",
      "1  2024-02-05T11:30:05Z      ITSub잇섭  s25에 대한 영상인 줄 알았다. s24에 대한 거네....ㅠㅠ   \n",
      "2  2024-02-05T11:30:05Z      ITSub잇섭                           플러스 겁나 이쁘네   \n",
      "3  2024-02-05T11:30:05Z      ITSub잇섭                       어쩜 이렇게 설명을 잘하지   \n",
      "4  2024-02-05T11:30:05Z      ITSub잇섭                 S24플이랑 24울트라랑 고민ㅈㄴ되네   \n",
      "\n",
      "   like_count  comment_publish_date  \n",
      "0           0  2025-02-05T16:19:46Z  \n",
      "1           0  2025-02-03T11:48:32Z  \n",
      "2           0  2025-01-20T04:33:14Z  \n",
      "3           0  2025-01-17T12:15:56Z  \n",
      "4           0  2025-01-17T10:58:47Z  \n"
     ]
    }
   ],
   "source": [
    "df1_s24_1 = pd.read_parquet('/home/lab13/airflow/dags/youtube_s24_1.parquet')\n",
    "print(df1_s24_1.head())"
   ]
  },
  {
   "cell_type": "code",
   "execution_count": 44,
   "id": "fdf291cc",
   "metadata": {
    "scrolled": true
   },
   "outputs": [
    {
     "data": {
      "text/plain": [
       "array(['갤럭시 S24+ VS 갤럭시 S24 울트라 둘 중 무엇을 사야할까 고민된다면?',\n",
       "       '빛나는 사성이 되어버린 삼성 케이스 근황',\n",
       "       '애타게 기다렸다.. 삼성 ‘정상화’. 갤럭시 S25 시리즈 달라진 9가지!',\n",
       "       '진짜 솔직하게요? 두달 내내 매일 써본 삼성 갤럭시 S24 울트라 사용기',\n",
       "       '한 달 꽉채워서 써본 갤럭시 Z 폴드6.. 솔직히 만족하시나요?',\n",
       "       '살지 말지 고민된다면? 삼성 갤럭시 Z 플립6 달라진 9가지 총 정리!',\n",
       "       '90만원에 육박하는데 돈값 할까? 갤럭시워치 울트라 짧은 사용기 (+워치7)',\n",
       "       '울트라 버리고 굳이 다운그레이드(?)한 이유? 삼성 갤럭시 S24 기본형 사용기',\n",
       "       '삼성 진짜 긴장해야 될 듯;; 샤오미 15 언빡싱&amp;간단 사용기!',\n",
       "       '오픈형에 이정도 노캔은 진짜...미쳤냐?;; 애플 에어팟 4 사용기!',\n",
       "       '출시하자마자 곤욕을 치른 갤럭시 S24 3가지 이슈 검증! 과연 해결책이 있을까?',\n",
       "       '결국, 아이폰으로 넘어갔다가 다시 돌아왔습니다. S24울트라 두 달 후기', '갤럭시 S24 울트라 72시간 후기',\n",
       "       '한국도 전부 스냅 8 엘리트!! 갤럭시 S25 시리즈 둘러보기',\n",
       "       '갤럭시 S24+가 이번에 ㄹㅇ 진또배기인 이유 #shorts',\n",
       "       '벤치&amp;발열&amp;카메라 다 비교했습니다 &quot;갤럭시S24 시리즈 사기 전에 반드시 봐야할 영상 1위&quot;',\n",
       "       '갤럭시 S24 언박싱 + 악세서리 / 마블 그레이/ 역대급 디자인 맞네요..',\n",
       "       '갤럭시 S24 시리즈 리뷰', '(NO 협찬) 갤럭시 S25 장단점! 진짜 솔직하게 말씀드릴게요',\n",
       "       '아이폰16프로 살까말까. 3분정리.',\n",
       "       'S24보다 좋은데 64만원 저렴하다?! 갤럭시 A35 vs S24 내돈내산 끝장비교, 추천까지! (외관, 디스플레이, 배터리, 성능, 편의성, 수리비)',\n",
       "       '카메라, 스피커 왜 이렇게 좋죠? 실제 써보니 훨씬 만족한 갤럭시 Z 폴드6 상세 리뷰',\n",
       "       '갤럭시S24 vs 아이폰15프로 비교해봤구요',\n",
       "       '삼성 갤럭시 S25 실물제품 전 컬러 모두 보며 실시간 Q&amp;A 나누기!',\n",
       "       '초대박 터진 갤럭시 S24 근황 #shorts',\n",
       "       '갤럭시 S24 사자마자 무조건 해야 하는 초기불량 테스트!! 사용하기 전에 무조건 확인하세요! (S24 일반, 플러스, 울트라, 외관, 디스플레이,  인공지능 AI)',\n",
       "       '갤럭시 Z플립6 치명적인 단점...??',\n",
       "       '4년 동안 못 바꾼 폰, 드디어 와이프의 허락을 받다? 갤럭시S24 울트라 언박싱 !',\n",
       "       '갤럭시 S24 기본형 치명적인 단점? #갤럭시s24',\n",
       "       '한 달 내내 써본 사람만 아는 아이폰16프로 리얼 후기; 이거 역대급 애매하다고 하는 이유?',\n",
       "       '가성?비? 좋은? 플래그?십?? 갤럭시 S24 FE 개봉기', '왜 정발 안함…? 갤럭시 A55(퀀텀5) 장점 리뷰',\n",
       "       '플러스가 명기? 갤럭시 S24+ 2주 실사용 장단점 리뷰', '갤럭시 Z 플립6 롱텀 리뷰',\n",
       "       '갤럭시 버즈3 프로 일주일 후기 #버즈3 #버즈프로 #삼성',\n",
       "       '갤럭시 Z플립6 개솔직한 한달 사용 후기 (POV. 바형 스마트폰 쓰다가 플립 처음 써본 유저)',\n",
       "       '야 이번에 갤럭시S25 왜이러냐 ㅋㅋㅋㅋ(벤치마크, 카메라, S펜 블루투스 테스트해봄)',\n",
       "       '???: 에어팟 프로 밟으실 수수수...',\n",
       "       '플립6 한달 후기!...카메라/배터리/발열/주름 개선됐을까? 좋은점VS아쉬운 점 총정리!',\n",
       "       '왜 홍보 안 함? 갤럭시 S24 AOD 킬러 기능 #shorts', '#갤럭시S24 #울트라 #블랙 색상- #티타늄',\n",
       "       '강경 갤탭 플러스파.로서 눈물나네요... 갤럭시탭S10+ 자세한 후기!',\n",
       "       '🔥요즘 난리난 갤럭시S24 소름돋는 신기능‼️ 갤럭시 아니어도 하는법? 끝까지보세요.',\n",
       "       '갤럭시 S24 울트라, 오래 써보고 느낀 적나라한 장단점! 제 결론은요..',\n",
       "       'S25 울트라 무조건 존버! 얇은 두께, 가벼운 무게, 배터리는 그대로! #s25 #s25ultra #s24ultra',\n",
       "       '평생 갤럭시만 쓴 사람의 아이폰 한달 사용기(feat. 아이폰vs갤럭시, 아이폰 15 pro max 리뷰)',\n",
       "       '갤럭시 S25 전색상 실물 꼭 보고 사세요! 사전예약 전 올컬러 비교 추천 리뷰. 삼성닷컴 전용컬러까지 (플러스 울트라, 첫인상 핸즈온, 디자인, 티타늄 프레임, 카메라, 베젤)',\n",
       "       'S24 생폰 50일 실사용 후기입니다!', '갤럭시S24 얼마나 똑똑해졌을까? AI 번역기능 실전 리뷰!',\n",
       "       '그냥 플러스 사세요! 기본 S24보다 S24플러스를 사야 하는 이유'], dtype=object)"
      ]
     },
     "execution_count": 44,
     "metadata": {},
     "output_type": "execute_result"
    }
   ],
   "source": [
    "df1_s24_1.title.unique()"
   ]
  },
  {
   "cell_type": "code",
   "execution_count": 4,
   "id": "6e5a2df8",
   "metadata": {},
   "outputs": [
    {
     "name": "stdout",
     "output_type": "stream",
     "text": [
      "      video_id                                        title  \\\n",
      "0  BAytLn0NhpI  갤럭시 S24+ VS 갤럭시 S24 울트라 둘 중 무엇을 사야할까 고민된다면?   \n",
      "1  BAytLn0NhpI  갤럭시 S24+ VS 갤럭시 S24 울트라 둘 중 무엇을 사야할까 고민된다면?   \n",
      "2  BAytLn0NhpI  갤럭시 S24+ VS 갤럭시 S24 울트라 둘 중 무엇을 사야할까 고민된다면?   \n",
      "3  BAytLn0NhpI  갤럭시 S24+ VS 갤럭시 S24 울트라 둘 중 무엇을 사야할까 고민된다면?   \n",
      "4  BAytLn0NhpI  갤럭시 S24+ VS 갤럭시 S24 울트라 둘 중 무엇을 사야할까 고민된다면?   \n",
      "\n",
      "           publish_date channel_name                              comment  \\\n",
      "0  2024-02-05T11:30:05Z      ITSub잇섭                      두개 다 갖고 다니면 되겠네   \n",
      "1  2024-02-05T11:30:05Z      ITSub잇섭  s25에 대한 영상인 줄 알았다. s24에 대한 거네....ㅠㅠ   \n",
      "2  2024-02-05T11:30:05Z      ITSub잇섭                           플러스 겁나 이쁘네   \n",
      "3  2024-02-05T11:30:05Z      ITSub잇섭                       어쩜 이렇게 설명을 잘하지   \n",
      "4  2024-02-05T11:30:05Z      ITSub잇섭                 S24플이랑 24울트라랑 고민ㅈㄴ되네   \n",
      "\n",
      "   like_count  comment_publish_date  \n",
      "0           0  2025-02-05T16:19:46Z  \n",
      "1           0  2025-02-03T11:48:32Z  \n",
      "2           0  2025-01-20T04:33:14Z  \n",
      "3           0  2025-01-17T12:15:56Z  \n",
      "4           0  2025-01-17T10:58:47Z  \n"
     ]
    }
   ],
   "source": [
    "df1_s24_2 = pd.read_parquet('/home/lab13/airflow/dags/youtube_s24_2.parquet')\n",
    "print(df1_s24_2.head())"
   ]
  },
  {
   "cell_type": "code",
   "execution_count": 5,
   "id": "dea4f45c",
   "metadata": {},
   "outputs": [
    {
     "name": "stdout",
     "output_type": "stream",
     "text": [
      "29\n"
     ]
    }
   ],
   "source": [
    "common_video_ids = df1_s24_1[df1_s24_1['video_id'].isin(df1_s24_2['video_id'])]\n",
    "common_count = common_video_ids['video_id'].nunique()\n",
    "print(common_count)"
   ]
  },
  {
   "cell_type": "code",
   "execution_count": 6,
   "id": "641fa4f8",
   "metadata": {},
   "outputs": [
    {
     "data": {
      "text/plain": [
       "array(['BAytLn0NhpI', 'JEnFUkGHN5E', 'zaGM9YjHvSQ', 'lIsASb_GL10',\n",
       "       'GNbgvG5ffvc', 'zbAWDm5EXAA', 'T_dVLshCrBc', 'mviko2mojhA',\n",
       "       'VURLDwWC8Rw', 'cEEt_vsT2DA', 'v8Ga90mzajw', '7C1mwt6ca00',\n",
       "       'a0B4eK0oGMg', 'W41puQNhoDs', 'E4ylERpbWlY', 'QyT2eMHoxMo',\n",
       "       'P8UxKx-Mjek', 'KFnNwos2J9k', 'THtBSUQ0UA4', 'krdUQ1av_2g',\n",
       "       'RYOjQJ08EqU', 'oDycFWBjKRE', '7AsFmIkYj0M', '6CpmgBlBzjk',\n",
       "       'zDJZoZXUxRI', 'GSD1fqYWY44', 'xkFIo07Ry8A', '07nkjHVQIL8',\n",
       "       '-lRdNdJ24Z8'], dtype=object)"
      ]
     },
     "execution_count": 6,
     "metadata": {},
     "output_type": "execute_result"
    }
   ],
   "source": [
    "common_video_ids['video_id'].unique()"
   ]
  },
  {
   "cell_type": "code",
   "execution_count": 12,
   "id": "f933790b",
   "metadata": {},
   "outputs": [
    {
     "name": "stdout",
     "output_type": "stream",
     "text": [
      "(54468, 7) (34748, 7)\n"
     ]
    }
   ],
   "source": [
    "tmp = pd.concat([df1_s24_1,df1_s24_2], axis=0)\n",
    "df_s24 = tmp.drop_duplicates()\n",
    "print(tmp.shape, df_s24.shape)"
   ]
  },
  {
   "cell_type": "code",
   "execution_count": 13,
   "id": "00c772ef",
   "metadata": {},
   "outputs": [
    {
     "data": {
      "text/html": [
       "<div>\n",
       "<style scoped>\n",
       "    .dataframe tbody tr th:only-of-type {\n",
       "        vertical-align: middle;\n",
       "    }\n",
       "\n",
       "    .dataframe tbody tr th {\n",
       "        vertical-align: top;\n",
       "    }\n",
       "\n",
       "    .dataframe thead th {\n",
       "        text-align: right;\n",
       "    }\n",
       "</style>\n",
       "<table border=\"1\" class=\"dataframe\">\n",
       "  <thead>\n",
       "    <tr style=\"text-align: right;\">\n",
       "      <th></th>\n",
       "      <th>video_id</th>\n",
       "      <th>title</th>\n",
       "      <th>publish_date</th>\n",
       "      <th>channel_name</th>\n",
       "      <th>comment</th>\n",
       "      <th>like_count</th>\n",
       "      <th>comment_publish_date</th>\n",
       "    </tr>\n",
       "  </thead>\n",
       "  <tbody>\n",
       "    <tr>\n",
       "      <th>0</th>\n",
       "      <td>BAytLn0NhpI</td>\n",
       "      <td>갤럭시 S24+ VS 갤럭시 S24 울트라 둘 중 무엇을 사야할까 고민된다면?</td>\n",
       "      <td>2024-02-05T11:30:05Z</td>\n",
       "      <td>ITSub잇섭</td>\n",
       "      <td>두개 다 갖고 다니면 되겠네</td>\n",
       "      <td>0</td>\n",
       "      <td>2025-02-05T16:19:46Z</td>\n",
       "    </tr>\n",
       "    <tr>\n",
       "      <th>1</th>\n",
       "      <td>BAytLn0NhpI</td>\n",
       "      <td>갤럭시 S24+ VS 갤럭시 S24 울트라 둘 중 무엇을 사야할까 고민된다면?</td>\n",
       "      <td>2024-02-05T11:30:05Z</td>\n",
       "      <td>ITSub잇섭</td>\n",
       "      <td>s25에 대한 영상인 줄 알았다. s24에 대한 거네....ㅠㅠ</td>\n",
       "      <td>0</td>\n",
       "      <td>2025-02-03T11:48:32Z</td>\n",
       "    </tr>\n",
       "    <tr>\n",
       "      <th>2</th>\n",
       "      <td>BAytLn0NhpI</td>\n",
       "      <td>갤럭시 S24+ VS 갤럭시 S24 울트라 둘 중 무엇을 사야할까 고민된다면?</td>\n",
       "      <td>2024-02-05T11:30:05Z</td>\n",
       "      <td>ITSub잇섭</td>\n",
       "      <td>플러스 겁나 이쁘네</td>\n",
       "      <td>0</td>\n",
       "      <td>2025-01-20T04:33:14Z</td>\n",
       "    </tr>\n",
       "    <tr>\n",
       "      <th>3</th>\n",
       "      <td>BAytLn0NhpI</td>\n",
       "      <td>갤럭시 S24+ VS 갤럭시 S24 울트라 둘 중 무엇을 사야할까 고민된다면?</td>\n",
       "      <td>2024-02-05T11:30:05Z</td>\n",
       "      <td>ITSub잇섭</td>\n",
       "      <td>어쩜 이렇게 설명을 잘하지</td>\n",
       "      <td>0</td>\n",
       "      <td>2025-01-17T12:15:56Z</td>\n",
       "    </tr>\n",
       "    <tr>\n",
       "      <th>4</th>\n",
       "      <td>BAytLn0NhpI</td>\n",
       "      <td>갤럭시 S24+ VS 갤럭시 S24 울트라 둘 중 무엇을 사야할까 고민된다면?</td>\n",
       "      <td>2024-02-05T11:30:05Z</td>\n",
       "      <td>ITSub잇섭</td>\n",
       "      <td>S24플이랑 24울트라랑 고민ㅈㄴ되네</td>\n",
       "      <td>0</td>\n",
       "      <td>2025-01-17T10:58:47Z</td>\n",
       "    </tr>\n",
       "  </tbody>\n",
       "</table>\n",
       "</div>"
      ],
      "text/plain": [
       "      video_id                                        title  \\\n",
       "0  BAytLn0NhpI  갤럭시 S24+ VS 갤럭시 S24 울트라 둘 중 무엇을 사야할까 고민된다면?   \n",
       "1  BAytLn0NhpI  갤럭시 S24+ VS 갤럭시 S24 울트라 둘 중 무엇을 사야할까 고민된다면?   \n",
       "2  BAytLn0NhpI  갤럭시 S24+ VS 갤럭시 S24 울트라 둘 중 무엇을 사야할까 고민된다면?   \n",
       "3  BAytLn0NhpI  갤럭시 S24+ VS 갤럭시 S24 울트라 둘 중 무엇을 사야할까 고민된다면?   \n",
       "4  BAytLn0NhpI  갤럭시 S24+ VS 갤럭시 S24 울트라 둘 중 무엇을 사야할까 고민된다면?   \n",
       "\n",
       "           publish_date channel_name                              comment  \\\n",
       "0  2024-02-05T11:30:05Z      ITSub잇섭                      두개 다 갖고 다니면 되겠네   \n",
       "1  2024-02-05T11:30:05Z      ITSub잇섭  s25에 대한 영상인 줄 알았다. s24에 대한 거네....ㅠㅠ   \n",
       "2  2024-02-05T11:30:05Z      ITSub잇섭                           플러스 겁나 이쁘네   \n",
       "3  2024-02-05T11:30:05Z      ITSub잇섭                       어쩜 이렇게 설명을 잘하지   \n",
       "4  2024-02-05T11:30:05Z      ITSub잇섭                 S24플이랑 24울트라랑 고민ㅈㄴ되네   \n",
       "\n",
       "   like_count  comment_publish_date  \n",
       "0           0  2025-02-05T16:19:46Z  \n",
       "1           0  2025-02-03T11:48:32Z  \n",
       "2           0  2025-01-20T04:33:14Z  \n",
       "3           0  2025-01-17T12:15:56Z  \n",
       "4           0  2025-01-17T10:58:47Z  "
      ]
     },
     "execution_count": 13,
     "metadata": {},
     "output_type": "execute_result"
    }
   ],
   "source": [
    "df_s24.head()"
   ]
  },
  {
   "cell_type": "code",
   "execution_count": 14,
   "id": "1bc19e7e",
   "metadata": {},
   "outputs": [
    {
     "data": {
      "text/plain": [
       "71"
      ]
     },
     "execution_count": 14,
     "metadata": {},
     "output_type": "execute_result"
    }
   ],
   "source": [
    "df_s24.video_id.nunique()"
   ]
  },
  {
   "cell_type": "code",
   "execution_count": 15,
   "id": "2d5ec618",
   "metadata": {},
   "outputs": [
    {
     "data": {
      "text/plain": [
       "video_id                0\n",
       "title                   0\n",
       "publish_date            0\n",
       "channel_name            0\n",
       "comment                 0\n",
       "like_count              0\n",
       "comment_publish_date    0\n",
       "dtype: int64"
      ]
     },
     "execution_count": 15,
     "metadata": {},
     "output_type": "execute_result"
    }
   ],
   "source": [
    "df_s24.isna().sum()"
   ]
  },
  {
   "cell_type": "code",
   "execution_count": 16,
   "id": "1b6d867b",
   "metadata": {},
   "outputs": [
    {
     "name": "stdout",
     "output_type": "stream",
     "text": [
      "<class 'pandas.core.frame.DataFrame'>\n",
      "Index: 34748 entries, 0 to 25741\n",
      "Data columns (total 7 columns):\n",
      " #   Column                Non-Null Count  Dtype \n",
      "---  ------                --------------  ----- \n",
      " 0   video_id              34748 non-null  object\n",
      " 1   title                 34748 non-null  object\n",
      " 2   publish_date          34748 non-null  object\n",
      " 3   channel_name          34748 non-null  object\n",
      " 4   comment               34748 non-null  object\n",
      " 5   like_count            34748 non-null  int64 \n",
      " 6   comment_publish_date  34748 non-null  object\n",
      "dtypes: int64(1), object(6)\n",
      "memory usage: 2.1+ MB\n"
     ]
    }
   ],
   "source": [
    "df_s24.info()"
   ]
  },
  {
   "cell_type": "code",
   "execution_count": 45,
   "id": "522ffed4",
   "metadata": {},
   "outputs": [
    {
     "data": {
      "text/plain": [
       "array(['ITSub잇섭', '디에디트 THE EDIT', '주연 ZUYONI', 'UNDERkg', '티노',\n",
       "       '쌤쌤티비 [ssamssamTV]', '테크몽 Techmong', '합리적 소비 3분테크', '아정당', '곰도리뷰',\n",
       "       '세다리TV', '폰무위키', '리올 RIOL', '김프로의 라이프 가이드', '소개팁 IntroTip', '잇새로이',\n",
       "       '노매드 크리틱', '리뷰남 노치', '조선일보', '에이트 ATE', 'KEVIN 케빈 - IT리뷰',\n",
       "       '인싸이트IT', '와이바이(WhyBuy)', '꿀단지PD',\n",
       "       '오라잇 스튜디오 - Digital Shopping Guide', '리뷰머신'], dtype=object)"
      ]
     },
     "execution_count": 45,
     "metadata": {},
     "output_type": "execute_result"
    }
   ],
   "source": [
    "df_s24.channel_name.unique()"
   ]
  },
  {
   "cell_type": "code",
   "execution_count": 31,
   "id": "4a593d6e",
   "metadata": {},
   "outputs": [
    {
     "data": {
      "text/plain": [
       "0                                                                                                                                                                                      두개 다 갖고 다니면 되겠네\n",
       "1                                                                                                                                                                  s25에 대한 영상인 줄 알았다. s24에 대한 거네....ㅠㅠ\n",
       "2                                                                                                                                                                                           플러스 겁나 이쁘네\n",
       "3                                                                                                                                                                                       어쩜 이렇게 설명을 잘하지\n",
       "4                                                                                                                                                                                 S24플이랑 24울트라랑 고민ㅈㄴ되네\n",
       "5                                                                                                                                                                          ㄱㅎ비용 ㅎㅅ이라돈없을것같아도 양ㄱ에서 ㅂ2억낙넉\n",
       "6                                                                                                                                                                                            8th 8F 8B\n",
       "7                                                                               이번에 25로 기변 할려는데 플러스를 갈지 울트라를 갈지 계속 고민이네요.. 카메라도 풍경 찍는 거 좋아하고 콘서트도 간혹 가는데 그러면 카메라가 좀 더 나은 울트라로 가야할까요.. 카메라 차이가 심하게 나나요?\n",
       "8     갤노트 20을 사용하고 있는데 배터리가 너무 순삭이라 핸드폰을 바꿔볼까 생각중입니다.  갤럭시S23이나 S24FE를 생각중이긴 한데 노트랑 스펙이랑 별 차이도 없어 존버도 생각중인데 존버하기에는 업그레이드도 끝났다는 것이 걸리더라구요  핸드폰는   간단한 게임 및  유튜브 시청, 현장 사진 찍는것이 주 사용 입니다. 추천좀 부탁드려도 될까요?\n",
       "9                                                                                                                                                                                                  아이폰\n",
       "10                                                                                                                                                                                       갤럭시, 대 아이폰 ㄱㄱ\n",
       "11                                                                                                                                                                                         2억만 화소?????\n",
       "12                                                                                                                                                                                   5:29 뭔가 이상한데 ㅋㅋㅋㅋ\n",
       "13                                                                                                                                                        평택연. 반도제 공장이지. 핸듭폰  공장이 이 아닙니다. 구미에. 공장이 있지요\n",
       "14                                                                                                                                                      기술 이미 다 털려서 기술력으로는 이미 다 따라잡혔지 폰뿐만이 아님 모든게 다 그럼\n",
       "15                                                                                                                                                               플러스에 펜을 다시 넣어주면..^^.. 울트라 너무 커서 고통...\n",
       "16                                                                                                                                  잇섭님 갤럭시s24울트라 같은기종끼리인데 똑같은 설정인데 물빠진색상 진한색상 차이가나는 부분이있는데 이건 왜그런걸까요?\n",
       "17                                                                            따라할걸 따라했어야 되는데 아이폰하고 맞추려고 S에 급을 나눈건 모든것에서 실이라고 봅네다 S와 A사이에 BCDEF...많지 않았나...마케팅 참...S 마다 성능이 다르다는 인식이 생긴 이후로 똥망폰으로 간거...\n",
       "18                                                                                      잇섭님 지금 노트9사용하고 있는데요..\\n지금 시점에서 내년 출시되는 s25로 갈아타는게 나을까요 s24플러스로 갈아타는게 나을까요 사실 두개 큰 차이 없으면 s24플로 빨리 바꾸고 싶은 심정입니다\n",
       "19                                                                                                                                                                      플러스무게로 울트라가 나왔으면 여자가 들기엔 넘 무거~\n",
       "20                                                                                                                                   지금 s20플러스 3년넘게 쓰고 있는데 24플러스로 바꾸면 체감이 클까요? 근데 s20플러스 좀비폰인듯요..죽지않아요\n",
       "21                                                                                                                                                                               갤럭시 S25해주세요 출시일:1/28화\n",
       "22                                                                                                                               1:08  1:26\\n6:54   9:20   9:35  \\n10:15 \\n12:34   13:03\\n19:30\\n20:42\n",
       "23                                             이거보고 샀다가 s24u s24+ 전부 gps 문제있었고 서비스센터갔더니 집근처 전파송신이 안좋은곳이라 그렇다는 소리들음. 서울에서도 춘천에서도 홍천에서도 서비스센터 100m 내에서도 안되는데 소비자을 얼마나 ㄷㅅ으로 보면 이런말을 할까 이젠 우리집안은 삼성 불매입니다.\n",
       "24                                                                                                                                                                         디자인은 의미없음 보호커버 과반이 뒤집어 씌우니까\n",
       "25                                                                                                                                              갤럭시 앵글 해서 노트 디자인\\n갤럭시 써클 해서 플러스 디자인으로 성능은 똑같이 나왔으면....\n",
       "26                                                                                                        다음에 s25시리즈 나오면 아이폰16프로랑 s25울트라 비교 해보는것도 좋을 것 같아요!! 왜냐면 아이폰프로가 이제 미니울트라 같은 느낌이 난다고 생각했거든요 저는!\n",
       "27                                                                                                                                                      샤오미꺼 사라. 그게 훨씬 좋다. 가격도 훨씬 싸고. 이미 갤럭시는 중국에 뒤졌다.\n",
       "28                                                                                                                                            애플 외계인 고문한 M1 칩 만들던 개발자들이 만든 스냅 시리즈 저만큼 따라잡은거 보면 대단하다 ㄹㅇ\n",
       "29                                                                                                                                                                      영상 첨 시작할때 뒤로가기 계쏙 누르면 뽂뽂뽂뽂 소리남\n",
       "30                                                                                                                                                                 갤24플러스 샀는데 이거 카메라가 생각보다 안좋네요 ㅡㅡ😂😂😂😂\n",
       "31                                                                                                                                                                            플러스로 들으니 음질 구별이 안가네  ㅋㅋㅋ\n",
       "32                                                                                                                                            폰은 대한민국에서 상대가 없다.\\n쓰레기 폰만 팔아서 어쩔수없이 샀ㄴ.ㄴ데..LG다시 폰 개발좀 해라\n",
       "33                                                                                                                     엑시노스 삼성에서 만든 독자적인 CPU인가요 원가절감 차원에서 들어간 부품이겠지요 방열판이 커졌다고 하니 발열에 분명히 문제가 있는 모양이네요\n",
       "34                                                                                         아 기본은 왜 해상도가 구데기인거야 플러스살까 고민을해봐도 플러스랑  내가 기존에 쓰고있는 노트텐플러스는 무게차이 생각보다 안남 근데 기본은 차이가 많이 나니까 저걸로 사고싶어도 스펙이 딸리네\n",
       "35                                                                                                                                                                                           아이폰이 답입니다\n",
       "36                                                                                                                                                                            폴드쓰시다 울트라 쓰시면 무게가 가벼워집니다\n",
       "37                                                                                                                                                                                           24+ 샀다...\n",
       "38                                                                                                                                                                                                   굿\n",
       "39                                                                                                      폰으로 가장많이쓰는 앱이 엑셀인데 엑셀이 생각보다 무겁다는 느낌이 드는데 왜그런지 아시나요? 엑셀을 주로 사용하는데는 어떤 하드웨어가 영향을 주는지 알려주실수 있을까요?\n",
       "40                                                                                                                                                                         갤럭시 s24 랑 아이폰 프로 16카메라 궁금해요\n",
       "41                         갤럭시 휴대폰을 샀다가 시계를 버렸네요.\\n구형시계는 연결이 안된대요. 시계를 바꾸래요 직원이.\\n연결이 안되니 시계를 뭐, 어떻게 할수가 없어서 전원끄고 서랍에 넣어놨네요.\\n삼성전자가 자기가 만든 시계를 구형이라고 연결못한다니, 실력이 좋은건지 나쁜건지\\n아니면 새로나온 시계 팔아먹을려고 장난치는건지.\n",
       "42                                                                                                                                                                         엑시노스 단 하나의 이유로\\n플러스보다는 울트라죠\n",
       "43                                                                                                                                                          UFS 4.0 스토리지 가 256 VS  512 이상이 성능차이가 있나요??\n",
       "44                                                                                                                                                                               갤럭시s25는 언제출시되는지 궁금하오,\n",
       "45                                                                                                                                                                                  디자인은 확실히 플러스가 이쁘네요\n",
       "46                                                                                                                                                                              울트라 디자인 진짜 사기싫게 생김 ㅋㅋㅋ\n",
       "47                                                                                                                                         울트라는 대부분 카메라를 많이 사용하는 사람들이 사용하고 그렇지 않다면 플러스나 기본 모델로 가는게 좋을듯\n",
       "48                                                                                                                                                                                        그냥 24는 안좋나요?\n",
       "49                                                                                                                                                                        플러스랑 울트라 삼성페이 같은거는 카메라 옆인가요?\n",
       "Name: comment, dtype: object"
      ]
     },
     "execution_count": 31,
     "metadata": {},
     "output_type": "execute_result"
    }
   ],
   "source": [
    "df_s24['comment'][:50]"
   ]
  },
  {
   "cell_type": "code",
   "execution_count": 32,
   "id": "52c767f6",
   "metadata": {},
   "outputs": [
    {
     "name": "stderr",
     "output_type": "stream",
     "text": [
      "/tmp/ipykernel_21544/2499429028.py:5: SettingWithCopyWarning: \n",
      "A value is trying to be set on a copy of a slice from a DataFrame.\n",
      "Try using .loc[row_indexer,col_indexer] = value instead\n",
      "\n",
      "See the caveats in the documentation: https://pandas.pydata.org/pandas-docs/stable/user_guide/indexing.html#returning-a-view-versus-a-copy\n",
      "  df_s24['comment'] = df_s24['comment'].apply(get_rid_of_emoticon)\n"
     ]
    },
    {
     "data": {
      "text/plain": [
       "0                                                                                                                                                                                  두개 다 갖고 다니면 되겠네\n",
       "1                                                                                                                                                                     s25에 대한 영상인 줄 알았다 s24에 대한 거네\n",
       "2                                                                                                                                                                                       플러스 겁나 이쁘네\n",
       "3                                                                                                                                                                                   어쩜 이렇게 설명을 잘하지\n",
       "4                                                                                                                                                                               S24플이랑 24울트라랑 고민되네\n",
       "5                                                                                                                                                                            비용 이라돈없을것같아도 양에서 2억낙넉\n",
       "6                                                                                                                                                                                        8th 8F 8B\n",
       "7                                                                                이번에 25로 기변 할려는데 플러스를 갈지 울트라를 갈지 계속 고민이네요 카메라도 풍경 찍는 거 좋아하고 콘서트도 간혹 가는데 그러면 카메라가 좀 더 나은 울트라로 가야할까요 카메라 차이가 심하게 나나요\n",
       "8     갤노트 20을 사용하고 있는데 배터리가 너무 순삭이라 핸드폰을 바꿔볼까 생각중입니다  갤럭시S23이나 S24FE를 생각중이긴 한데 노트랑 스펙이랑 별 차이도 없어 존버도 생각중인데 존버하기에는 업그레이드도 끝났다는 것이 걸리더라구요  핸드폰는   간단한 게임 및  유튜브 시청 현장 사진 찍는것이 주 사용 입니다 추천좀 부탁드려도 될까요\n",
       "9                                                                                                                                                                                              아이폰\n",
       "10                                                                                                                                                                                      갤럭시 대 아이폰 \n",
       "11                                                                                                                                                                                          2억만 화소\n",
       "12                                                                                                                                                                                    529 뭔가 이상한데 \n",
       "13                                                                                                                                                        평택연 반도제 공장이지 핸듭폰  공장이 이 아닙니다 구미에 공장이 있지요\n",
       "14                                                                                                                                                  기술 이미 다 털려서 기술력으로는 이미 다 따라잡혔지 폰뿐만이 아님 모든게 다 그럼\n",
       "15                                                                                                                                                                    플러스에 펜을 다시 넣어주면 울트라 너무 커서 고통\n",
       "16                                                                                                                               잇섭님 갤럭시s24울트라 같은기종끼리인데 똑같은 설정인데 물빠진색상 진한색상 차이가나는 부분이있는데 이건 왜그런걸까요\n",
       "17                                                                                    따라할걸 따라했어야 되는데 아이폰하고 맞추려고 S에 급을 나눈건 모든것에서 실이라고 봅네다 S와 A사이에 BCDEF많지 않았나마케팅 참S 마다 성능이 다르다는 인식이 생긴 이후로 똥망폰으로 간거\n",
       "18                                                                                    잇섭님 지금 노트9사용하고 있는데요\\n지금 시점에서 내년 출시되는 s25로 갈아타는게 나을까요 s24플러스로 갈아타는게 나을까요 사실 두개 큰 차이 없으면 s24플로 빨리 바꾸고 싶은 심정입니다\n",
       "19                                                                                                                                                                   플러스무게로 울트라가 나왔으면 여자가 들기엔 넘 무거\n",
       "20                                                                                                                                  지금 s20플러스 3년넘게 쓰고 있는데 24플러스로 바꾸면 체감이 클까요 근데 s20플러스 좀비폰인듯요죽지않아요\n",
       "21                                                                                                                                                                             갤럭시 S25해주세요 출시일128화\n",
       "22                                                                                                                                     108  126\\n654   920   935  \\n1015 \\n1234   1303\\n1930\\n2042\n",
       "23                                              이거보고 샀다가 s24u s24 전부 gps 문제있었고 서비스센터갔더니 집근처 전파송신이 안좋은곳이라 그렇다는 소리들음 서울에서도 춘천에서도 홍천에서도 서비스센터 100m 내에서도 안되는데 소비자을 얼마나 으로 보면 이런말을 할까 이젠 우리집안은 삼성 불매입니다\n",
       "24                                                                                                                                                                     디자인은 의미없음 보호커버 과반이 뒤집어 씌우니까\n",
       "25                                                                                                                                              갤럭시 앵글 해서 노트 디자인\\n갤럭시 써클 해서 플러스 디자인으로 성능은 똑같이 나왔으면\n",
       "26                                                                                                       다음에 s25시리즈 나오면 아이폰16프로랑 s25울트라 비교 해보는것도 좋을 것 같아요 왜냐면 아이폰프로가 이제 미니울트라 같은 느낌이 난다고 생각했거든요 저는\n",
       "27                                                                                                                                                      샤오미꺼 사라 그게 훨씬 좋다 가격도 훨씬 싸고 이미 갤럭시는 중국에 뒤졌다\n",
       "28                                                                                                                                          애플 외계인 고문한 M1 칩 만들던 개발자들이 만든 스냅 시리즈 저만큼 따라잡은거 보면 대단하다 \n",
       "29                                                                                                                                                                  영상 첨 시작할때 뒤로가기 계쏙 누르면 뽂뽂뽂뽂 소리남\n",
       "30                                                                                                                                                                   갤24플러스 샀는데 이거 카메라가 생각보다 안좋네요 \n",
       "31                                                                                                                                                                           플러스로 들으니 음질 구별이 안가네  \n",
       "32                                                                                                                                              폰은 대한민국에서 상대가 없다\\n쓰레기 폰만 팔아서 어쩔수없이 샀데LG다시 폰 개발좀 해라\n",
       "33                                                                                                                 엑시노스 삼성에서 만든 독자적인 CPU인가요 원가절감 차원에서 들어간 부품이겠지요 방열판이 커졌다고 하니 발열에 분명히 문제가 있는 모양이네요\n",
       "34                                                                                     아 기본은 왜 해상도가 구데기인거야 플러스살까 고민을해봐도 플러스랑  내가 기존에 쓰고있는 노트텐플러스는 무게차이 생각보다 안남 근데 기본은 차이가 많이 나니까 저걸로 사고싶어도 스펙이 딸리네\n",
       "35                                                                                                                                                                                       아이폰이 답입니다\n",
       "36                                                                                                                                                                        폴드쓰시다 울트라 쓰시면 무게가 가벼워집니다\n",
       "37                                                                                                                                                                                           24 샀다\n",
       "38                                                                                                                                                                                               굿\n",
       "39                                                                                                    폰으로 가장많이쓰는 앱이 엑셀인데 엑셀이 생각보다 무겁다는 느낌이 드는데 왜그런지 아시나요 엑셀을 주로 사용하는데는 어떤 하드웨어가 영향을 주는지 알려주실수 있을까요\n",
       "40                                                                                                                                                                     갤럭시 s24 랑 아이폰 프로 16카메라 궁금해요\n",
       "41                            갤럭시 휴대폰을 샀다가 시계를 버렸네요\\n구형시계는 연결이 안된대요 시계를 바꾸래요 직원이\\n연결이 안되니 시계를 뭐 어떻게 할수가 없어서 전원끄고 서랍에 넣어놨네요\\n삼성전자가 자기가 만든 시계를 구형이라고 연결못한다니 실력이 좋은건지 나쁜건지\\n아니면 새로나온 시계 팔아먹을려고 장난치는건지\n",
       "42                                                                                                                                                                     엑시노스 단 하나의 이유로\\n플러스보다는 울트라죠\n",
       "43                                                                                                                                                         UFS 40 스토리지 가 256 VS  512 이상이 성능차이가 있나요\n",
       "44                                                                                                                                                                            갤럭시s25는 언제출시되는지 궁금하오\n",
       "45                                                                                                                                                                              디자인은 확실히 플러스가 이쁘네요\n",
       "46                                                                                                                                                                             울트라 디자인 진짜 사기싫게 생김 \n",
       "47                                                                                                                                     울트라는 대부분 카메라를 많이 사용하는 사람들이 사용하고 그렇지 않다면 플러스나 기본 모델로 가는게 좋을듯\n",
       "48                                                                                                                                                                                     그냥 24는 안좋나요\n",
       "49                                                                                                                                                                     플러스랑 울트라 삼성페이 같은거는 카메라 옆인가요\n",
       "Name: comment, dtype: object"
      ]
     },
     "execution_count": 32,
     "metadata": {},
     "output_type": "execute_result"
    }
   ],
   "source": [
    "def get_rid_of_emoticon(text):\n",
    "    pattern = re.compile('[^가-힣0-9a-zA-Z\\s]')\n",
    "    return re.sub(pattern, '', text)\n",
    "\n",
    "df_s24['comment'] = df_s24['comment'].apply(get_rid_of_emoticon)\n",
    "df_s24['comment'][:50]"
   ]
  },
  {
   "cell_type": "code",
   "execution_count": 33,
   "id": "25f08156",
   "metadata": {},
   "outputs": [
    {
     "name": "stderr",
     "output_type": "stream",
     "text": [
      "/tmp/ipykernel_21544/2213384075.py:4: SettingWithCopyWarning: \n",
      "A value is trying to be set on a copy of a slice from a DataFrame.\n",
      "Try using .loc[row_indexer,col_indexer] = value instead\n",
      "\n",
      "See the caveats in the documentation: https://pandas.pydata.org/pandas-docs/stable/user_guide/indexing.html#returning-a-view-versus-a-copy\n",
      "  df_s24['comment'] = df_s24['comment'].apply(remove_newlines)\n"
     ]
    },
    {
     "data": {
      "text/plain": [
       "0                                                                                                                                                                                  두개 다 갖고 다니면 되겠네\n",
       "1                                                                                                                                                                     s25에 대한 영상인 줄 알았다 s24에 대한 거네\n",
       "2                                                                                                                                                                                       플러스 겁나 이쁘네\n",
       "3                                                                                                                                                                                   어쩜 이렇게 설명을 잘하지\n",
       "4                                                                                                                                                                               S24플이랑 24울트라랑 고민되네\n",
       "5                                                                                                                                                                            비용 이라돈없을것같아도 양에서 2억낙넉\n",
       "6                                                                                                                                                                                        8th 8F 8B\n",
       "7                                                                                이번에 25로 기변 할려는데 플러스를 갈지 울트라를 갈지 계속 고민이네요 카메라도 풍경 찍는 거 좋아하고 콘서트도 간혹 가는데 그러면 카메라가 좀 더 나은 울트라로 가야할까요 카메라 차이가 심하게 나나요\n",
       "8     갤노트 20을 사용하고 있는데 배터리가 너무 순삭이라 핸드폰을 바꿔볼까 생각중입니다  갤럭시S23이나 S24FE를 생각중이긴 한데 노트랑 스펙이랑 별 차이도 없어 존버도 생각중인데 존버하기에는 업그레이드도 끝났다는 것이 걸리더라구요  핸드폰는   간단한 게임 및  유튜브 시청 현장 사진 찍는것이 주 사용 입니다 추천좀 부탁드려도 될까요\n",
       "9                                                                                                                                                                                              아이폰\n",
       "10                                                                                                                                                                                      갤럭시 대 아이폰 \n",
       "11                                                                                                                                                                                          2억만 화소\n",
       "12                                                                                                                                                                                    529 뭔가 이상한데 \n",
       "13                                                                                                                                                        평택연 반도제 공장이지 핸듭폰  공장이 이 아닙니다 구미에 공장이 있지요\n",
       "14                                                                                                                                                  기술 이미 다 털려서 기술력으로는 이미 다 따라잡혔지 폰뿐만이 아님 모든게 다 그럼\n",
       "15                                                                                                                                                                    플러스에 펜을 다시 넣어주면 울트라 너무 커서 고통\n",
       "16                                                                                                                               잇섭님 갤럭시s24울트라 같은기종끼리인데 똑같은 설정인데 물빠진색상 진한색상 차이가나는 부분이있는데 이건 왜그런걸까요\n",
       "17                                                                                    따라할걸 따라했어야 되는데 아이폰하고 맞추려고 S에 급을 나눈건 모든것에서 실이라고 봅네다 S와 A사이에 BCDEF많지 않았나마케팅 참S 마다 성능이 다르다는 인식이 생긴 이후로 똥망폰으로 간거\n",
       "18                                                                                     잇섭님 지금 노트9사용하고 있는데요 지금 시점에서 내년 출시되는 s25로 갈아타는게 나을까요 s24플러스로 갈아타는게 나을까요 사실 두개 큰 차이 없으면 s24플로 빨리 바꾸고 싶은 심정입니다\n",
       "19                                                                                                                                                                   플러스무게로 울트라가 나왔으면 여자가 들기엔 넘 무거\n",
       "20                                                                                                                                  지금 s20플러스 3년넘게 쓰고 있는데 24플러스로 바꾸면 체감이 클까요 근데 s20플러스 좀비폰인듯요죽지않아요\n",
       "21                                                                                                                                                                             갤럭시 S25해주세요 출시일128화\n",
       "22                                                                                                                                          108  126 654   920   935   1015  1234   1303 1930 2042\n",
       "23                                              이거보고 샀다가 s24u s24 전부 gps 문제있었고 서비스센터갔더니 집근처 전파송신이 안좋은곳이라 그렇다는 소리들음 서울에서도 춘천에서도 홍천에서도 서비스센터 100m 내에서도 안되는데 소비자을 얼마나 으로 보면 이런말을 할까 이젠 우리집안은 삼성 불매입니다\n",
       "24                                                                                                                                                                     디자인은 의미없음 보호커버 과반이 뒤집어 씌우니까\n",
       "25                                                                                                                                               갤럭시 앵글 해서 노트 디자인 갤럭시 써클 해서 플러스 디자인으로 성능은 똑같이 나왔으면\n",
       "26                                                                                                       다음에 s25시리즈 나오면 아이폰16프로랑 s25울트라 비교 해보는것도 좋을 것 같아요 왜냐면 아이폰프로가 이제 미니울트라 같은 느낌이 난다고 생각했거든요 저는\n",
       "27                                                                                                                                                      샤오미꺼 사라 그게 훨씬 좋다 가격도 훨씬 싸고 이미 갤럭시는 중국에 뒤졌다\n",
       "28                                                                                                                                          애플 외계인 고문한 M1 칩 만들던 개발자들이 만든 스냅 시리즈 저만큼 따라잡은거 보면 대단하다 \n",
       "29                                                                                                                                                                  영상 첨 시작할때 뒤로가기 계쏙 누르면 뽂뽂뽂뽂 소리남\n",
       "30                                                                                                                                                                   갤24플러스 샀는데 이거 카메라가 생각보다 안좋네요 \n",
       "31                                                                                                                                                                           플러스로 들으니 음질 구별이 안가네  \n",
       "32                                                                                                                                               폰은 대한민국에서 상대가 없다 쓰레기 폰만 팔아서 어쩔수없이 샀데LG다시 폰 개발좀 해라\n",
       "33                                                                                                                 엑시노스 삼성에서 만든 독자적인 CPU인가요 원가절감 차원에서 들어간 부품이겠지요 방열판이 커졌다고 하니 발열에 분명히 문제가 있는 모양이네요\n",
       "34                                                                                     아 기본은 왜 해상도가 구데기인거야 플러스살까 고민을해봐도 플러스랑  내가 기존에 쓰고있는 노트텐플러스는 무게차이 생각보다 안남 근데 기본은 차이가 많이 나니까 저걸로 사고싶어도 스펙이 딸리네\n",
       "35                                                                                                                                                                                       아이폰이 답입니다\n",
       "36                                                                                                                                                                        폴드쓰시다 울트라 쓰시면 무게가 가벼워집니다\n",
       "37                                                                                                                                                                                           24 샀다\n",
       "38                                                                                                                                                                                               굿\n",
       "39                                                                                                    폰으로 가장많이쓰는 앱이 엑셀인데 엑셀이 생각보다 무겁다는 느낌이 드는데 왜그런지 아시나요 엑셀을 주로 사용하는데는 어떤 하드웨어가 영향을 주는지 알려주실수 있을까요\n",
       "40                                                                                                                                                                     갤럭시 s24 랑 아이폰 프로 16카메라 궁금해요\n",
       "41                                갤럭시 휴대폰을 샀다가 시계를 버렸네요 구형시계는 연결이 안된대요 시계를 바꾸래요 직원이 연결이 안되니 시계를 뭐 어떻게 할수가 없어서 전원끄고 서랍에 넣어놨네요 삼성전자가 자기가 만든 시계를 구형이라고 연결못한다니 실력이 좋은건지 나쁜건지 아니면 새로나온 시계 팔아먹을려고 장난치는건지\n",
       "42                                                                                                                                                                      엑시노스 단 하나의 이유로 플러스보다는 울트라죠\n",
       "43                                                                                                                                                         UFS 40 스토리지 가 256 VS  512 이상이 성능차이가 있나요\n",
       "44                                                                                                                                                                            갤럭시s25는 언제출시되는지 궁금하오\n",
       "45                                                                                                                                                                              디자인은 확실히 플러스가 이쁘네요\n",
       "46                                                                                                                                                                             울트라 디자인 진짜 사기싫게 생김 \n",
       "47                                                                                                                                     울트라는 대부분 카메라를 많이 사용하는 사람들이 사용하고 그렇지 않다면 플러스나 기본 모델로 가는게 좋을듯\n",
       "48                                                                                                                                                                                     그냥 24는 안좋나요\n",
       "49                                                                                                                                                                     플러스랑 울트라 삼성페이 같은거는 카메라 옆인가요\n",
       "Name: comment, dtype: object"
      ]
     },
     "execution_count": 33,
     "metadata": {},
     "output_type": "execute_result"
    }
   ],
   "source": [
    "def remove_newlines(text):\n",
    "    return text.replace(\"\\n\", \" \")\n",
    "\n",
    "df_s24['comment'] = df_s24['comment'].apply(remove_newlines)\n",
    "df_s24['comment'][:50]"
   ]
  },
  {
   "cell_type": "code",
   "execution_count": 35,
   "id": "93a7d44b",
   "metadata": {
    "scrolled": true
   },
   "outputs": [
    {
     "name": "stderr",
     "output_type": "stream",
     "text": [
      "/tmp/ipykernel_21544/1877459270.py:7: SettingWithCopyWarning: \n",
      "A value is trying to be set on a copy of a slice from a DataFrame.\n",
      "Try using .loc[row_indexer,col_indexer] = value instead\n",
      "\n",
      "See the caveats in the documentation: https://pandas.pydata.org/pandas-docs/stable/user_guide/indexing.html#returning-a-view-versus-a-copy\n",
      "  df_s24['nouns'] = df_s24['comment'].apply(extract_nouns)\n"
     ]
    },
    {
     "data": {
      "text/plain": [
       "0                                                                                                                               [개]\n",
       "1                                                                                                                [대한, 영상, 줄, 대한, 거]\n",
       "2                                                                                                                             [플러스]\n",
       "3                                                                                                                          [어쩜, 설명]\n",
       "4                                                                                                                      [플, 울트라, 고민]\n",
       "5                                                                                                                       [비용, 라돈, 양]\n",
       "6                                                                                                                                []\n",
       "7                                     [이번, 로, 기변, 플러스, 울트라, 계속, 고민, 요, 카메라, 풍경, 거, 콘서트, 간혹, 카메라, 좀, 더, 나은, 울트라, 가야, 요, 카메라, 차이, 나나]\n",
       "8     [노트, 사용, 배터리, 순삭, 핸드폰, 생각, 갤럭시, 이나, 를, 생각, 노트, 스펙, 별, 차이, 존버, 생각, 존버, 업그레이드, 것, 핸드폰, 게임, 및, 유튜브, 시청, 현장, 사진, 주, 사용, 추천, 좀, 요]\n",
       "9                                                                                                                             [아이폰]\n",
       "10                                                                                                                       [갤럭시, 아이폰]\n",
       "11                                                                                                                             [화소]\n",
       "12                                                                                                                             [뭔가]\n",
       "13                                                                                              [평택, 연, 도제, 공장, 핸듭폰, 공장, 이, 구미, 공장]\n",
       "14                                                                                                                  [기술, 기술, 폰, 모든]\n",
       "15                                                                                                        [플러스, 펜, 다시, 울트라, 커서, 고통]\n",
       "16                                                                                [섭, 갤럭시, 울트라, 종, 끼리, 설정, 물, 색상, 색상, 부분, 이건, 왜, 걸]\n",
       "17                                                                               [걸, 아이폰, 급, 것, 실, 네, 사이, 마케팅, 마다, 성능, 인식, 이후, 똥망폰]\n",
       "18                                                                       [섭, 지금, 노트, 사용, 지금, 시점, 내년, 출시, 로, 플러스, 사실, 개, 차이, 플로, 심정]\n",
       "19                                                                                                        [플러스, 무게, 울트라, 여자, 기, 무거]\n",
       "20                                                                                         [지금, 플러스, 플러스, 체감, 요, 플러스, 좀비, 폰, 듯, 죽지]\n",
       "21                                                                                                                    [갤럭시, 출시일, 화]\n",
       "22                                                                                                                               []\n",
       "23                            [거, 보고, 전부, 문제, 서비스, 센터, 집, 근처, 전파, 송신, 곳, 소리, 서울, 춘천, 홍천, 서비스, 센터, 내, 소비, 얼마나, 말, 젠, 우리, 집안, 삼성, 불매]\n",
       "24                                                                                                            [디자인, 의미, 보호, 커버, 과반]\n",
       "25                                                                                        [갤럭시, 앵글, 노트, 디자인, 갤럭시, 써클, 플러스, 디자인, 성능]\n",
       "26                                                                  [다음, 아이폰, 프로, 울트라, 비교, 것, 왜냐면, 아이폰, 프로, 이제, 미니, 울트라, 느낌, 생각, 저]\n",
       "27                                                                                                       [샤오미, 사라, 그게, 가격, 갤럭시, 중국]\n",
       "28                                                                                           [애플, 외계인, 고문, 칩, 개발자, 스냅, 시리즈, 저만큼, 거]\n",
       "29                                                                                              [영상, 시작, 때, 뒤, 가기, 계쏙, 뽂뽂뽂뽂, 소리, 남]\n",
       "30                                                                                                                [플러스, 거, 카메라, 생각]\n",
       "31                                                                                                                    [플러스, 음질, 구별]\n",
       "32                                                                                           [폰, 대한민국, 상대, 쓰레기, 폰, 다시, 폰, 개발, 좀, 해]\n",
       "33                                                                        [엑시노스, 삼성, 독자, 원가, 절감, 차원, 부품, 방열, 판이, 하니, 발열, 문제, 모양, 요]\n",
       "34                                              [기본, 왜, 해상도, 데, 플러스, 고민, 플러스, 내, 기존, 노트, 텐, 플러스, 무게, 차이, 생각, 안남, 기본, 차이, 나, 저걸, 스펙]\n",
       "35                                                                                                                         [아이폰, 답]\n",
       "36                                                                                                              [폴드쓰시, 울트라, 쓰시, 무게]\n",
       "37                                                                                                                               []\n",
       "38                                                                                                                              [굿]\n",
       "39                                                                              [폰, 가장, 앱, 엑셀, 엑셀, 생각, 느낌, 왜, 엑셀, 주로, 사용, 하드웨어, 영향]\n",
       "40                                                                                                              [갤럭시, 아이폰, 프로, 카메라]\n",
       "41                                     [갤럭시, 휴대폰, 시계, 구형, 시계, 연결, 대요, 시계, 직원, 연결, 시계, 뭐, 전원, 서랍, 전자, 자기, 시계, 구형, 연결, 실력, 시계, 팔, 장난]\n",
       "42                                                                                                      [엑시노스, 단, 하나, 이유, 플러스, 울트라]\n",
       "43                                                                                                                [스토리, 이상, 성능, 차이]\n",
       "44                                                                                                                        [갤럭시, 출시]\n",
       "45                                                                                                                       [디자인, 플러스]\n",
       "46                                                                                                               [울트라, 디자인, 진짜, 사기]\n",
       "47                                                                                         [울트라, 대부분, 카메라, 사용, 사람, 사용, 플러스, 기본, 모델]\n",
       "48                                                                                                                             [그냥]\n",
       "49                                                                                                       [플러스, 울트라, 삼성, 페이, 카메라, 옆]\n",
       "Name: nouns, dtype: object"
      ]
     },
     "execution_count": 35,
     "metadata": {},
     "output_type": "execute_result"
    }
   ],
   "source": [
    "okt = Okt()\n",
    "\n",
    "def extract_nouns(text):\n",
    "    nouns = okt.nouns(text)\n",
    "    return nouns\n",
    "\n",
    "df_s24['nouns'] = df_s24['comment'].apply(extract_nouns)\n",
    "df_s24['nouns'][:50]"
   ]
  },
  {
   "cell_type": "code",
   "execution_count": 37,
   "id": "380e932f",
   "metadata": {},
   "outputs": [
    {
     "data": {
      "text/plain": [
       "['대한', '영상', '줄', '대한', '거']"
      ]
     },
     "execution_count": 37,
     "metadata": {},
     "output_type": "execute_result"
    }
   ],
   "source": [
    "df_s24['nouns'][1]"
   ]
  },
  {
   "cell_type": "code",
   "execution_count": 39,
   "id": "cc5b7170",
   "metadata": {},
   "outputs": [
    {
     "data": {
      "text/plain": [
       "[('울트라', 4648),\n",
       " ('아이폰', 3234),\n",
       " ('삼성', 3181),\n",
       " ('폰', 3059),\n",
       " ('갤럭시', 3017),\n",
       " ('진짜', 2303),\n",
       " ('더', 2139),\n",
       " ('사용', 2027),\n",
       " ('때', 1925),\n",
       " ('저', 1831),\n",
       " ('것', 1784),\n",
       " ('좀', 1772),\n",
       " ('프로', 1758),\n",
       " ('카메라', 1727),\n",
       " ('영상', 1712),\n",
       " ('거', 1688),\n",
       " ('플러스', 1600),\n",
       " ('디자인', 1489),\n",
       " ('리뷰', 1480),\n",
       " ('플립', 1463),\n",
       " ('폴드', 1410),\n",
       " ('생각', 1408),\n",
       " ('이번', 1404),\n",
       " ('기능', 1325),\n",
       " ('애플', 1315),\n",
       " ('성능', 1303),\n",
       " ('가격', 1264),\n",
       " ('그냥', 1228),\n",
       " ('사람', 1194),\n",
       " ('중국', 1164)]"
      ]
     },
     "execution_count": 39,
     "metadata": {},
     "output_type": "execute_result"
    }
   ],
   "source": [
    "all_nouns = sum(df_s24['nouns'], [])\n",
    "\n",
    "\n",
    "noun_counts = Counter(all_nouns)\n",
    "most_common_nouns = noun_counts.most_common(30)\n",
    "most_common_nouns"
   ]
  },
  {
   "cell_type": "code",
   "execution_count": 40,
   "id": "644884e4",
   "metadata": {},
   "outputs": [
    {
     "data": {
      "text/plain": [
       "[('울트라', 4648),\n",
       " ('아이폰', 3234),\n",
       " ('삼성', 3181),\n",
       " ('갤럭시', 3017),\n",
       " ('진짜', 2303),\n",
       " ('사용', 2027),\n",
       " ('프로', 1758),\n",
       " ('카메라', 1727),\n",
       " ('영상', 1712),\n",
       " ('플러스', 1600),\n",
       " ('디자인', 1489),\n",
       " ('리뷰', 1480),\n",
       " ('플립', 1463),\n",
       " ('폴드', 1410),\n",
       " ('생각', 1408),\n",
       " ('이번', 1404),\n",
       " ('기능', 1325),\n",
       " ('애플', 1315),\n",
       " ('성능', 1303),\n",
       " ('가격', 1264),\n",
       " ('그냥', 1228),\n",
       " ('사람', 1194),\n",
       " ('중국', 1164),\n",
       " ('배터리', 1114),\n",
       " ('화면', 1011),\n",
       " ('보고', 959),\n",
       " ('기본', 937),\n",
       " ('고민', 916),\n",
       " ('워치', 913),\n",
       " ('구매', 876)]"
      ]
     },
     "execution_count": 40,
     "metadata": {},
     "output_type": "execute_result"
    }
   ],
   "source": [
    "filtered_nouns = [noun for noun in all_nouns if len(noun) > 1]\n",
    "\n",
    "noun_counts = Counter(filtered_nouns)\n",
    "\n",
    "most_common_nouns = noun_counts.most_common(30)\n",
    "most_common_nouns"
   ]
  },
  {
   "cell_type": "code",
   "execution_count": 41,
   "id": "0cb5a08b",
   "metadata": {
    "scrolled": true
   },
   "outputs": [
    {
     "data": {
      "text/plain": [
       "[['휴'],\n",
       " ['아이구'],\n",
       " ['아이쿠'],\n",
       " ['아이고'],\n",
       " ['어'],\n",
       " ['나'],\n",
       " ['우리'],\n",
       " ['저희'],\n",
       " ['따라'],\n",
       " ['의해'],\n",
       " ['을'],\n",
       " ['를'],\n",
       " ['에'],\n",
       " ['의'],\n",
       " ['가'],\n",
       " ['으로'],\n",
       " ['로'],\n",
       " ['에게'],\n",
       " ['뿐이다'],\n",
       " ['의거하여'],\n",
       " ['근거하여'],\n",
       " ['입각하여'],\n",
       " ['기준으로'],\n",
       " ['예하면'],\n",
       " ['예를 들면'],\n",
       " ['예를 들자면'],\n",
       " ['저'],\n",
       " ['소인'],\n",
       " ['소생'],\n",
       " ['저희']]"
      ]
     },
     "execution_count": 41,
     "metadata": {},
     "output_type": "execute_result"
    }
   ],
   "source": [
    "stopwords = pd.read_csv(\"https://raw.githubusercontent.com/yoonkt200/FastCampusDataset/master/korean_stopwords.txt\").values.tolist()\n",
    "stopwords[:30]"
   ]
  },
  {
   "cell_type": "code",
   "execution_count": 43,
   "id": "4e22f214",
   "metadata": {
    "scrolled": true
   },
   "outputs": [
    {
     "data": {
      "text/plain": [
       "[('진짜', 2303),\n",
       " ('사용', 2027),\n",
       " ('프로', 1758),\n",
       " ('카메라', 1727),\n",
       " ('영상', 1712),\n",
       " ('플러스', 1600),\n",
       " ('디자인', 1489),\n",
       " ('리뷰', 1480),\n",
       " ('플립', 1463),\n",
       " ('폴드', 1410),\n",
       " ('생각', 1408),\n",
       " ('이번', 1404),\n",
       " ('기능', 1325),\n",
       " ('애플', 1315),\n",
       " ('성능', 1303),\n",
       " ('가격', 1264),\n",
       " ('그냥', 1228),\n",
       " ('사람', 1194),\n",
       " ('중국', 1164),\n",
       " ('배터리', 1114),\n",
       " ('화면', 1011),\n",
       " ('보고', 959),\n",
       " ('기본', 937),\n",
       " ('고민', 916),\n",
       " ('워치', 913),\n",
       " ('구매', 876),\n",
       " ('문제', 874),\n",
       " ('정도', 874),\n",
       " ('때문', 865),\n",
       " ('지금', 852)]"
      ]
     },
     "execution_count": 43,
     "metadata": {},
     "output_type": "execute_result"
    }
   ],
   "source": [
    "stopwords = [word[0] for word in stopwords]  \n",
    "\n",
    "# 추가로 제외\n",
    "additional_stopwords = ['갤럭시', 'S24', '울트라', '아이폰', '삼성']\n",
    "stopwords.extend(additional_stopwords)\n",
    "\n",
    "def remove_stopwords(nouns):\n",
    "    return [noun for noun in nouns if len(noun) > 1 and noun not in stopwords]\n",
    "\n",
    "filtered_nouns_no_stopwords = [remove_stopwords(nouns) for nouns in df_s24['nouns']]\n",
    "all_filtered_nouns = sum(filtered_nouns_no_stopwords, [])\n",
    "noun_counts = Counter(all_filtered_nouns)\n",
    "most_common_nouns = noun_counts.most_common(30)\n",
    "most_common_nouns"
   ]
  },
  {
   "cell_type": "code",
   "execution_count": null,
   "id": "9be4518a",
   "metadata": {},
   "outputs": [],
   "source": []
  }
 ],
 "metadata": {
  "kernelspec": {
   "display_name": "Python (Project)",
   "language": "python",
   "name": "project"
  },
  "language_info": {
   "codemirror_mode": {
    "name": "ipython",
    "version": 3
   },
   "file_extension": ".py",
   "mimetype": "text/x-python",
   "name": "python",
   "nbconvert_exporter": "python",
   "pygments_lexer": "ipython3",
   "version": "3.8.0"
  }
 },
 "nbformat": 4,
 "nbformat_minor": 5
}
