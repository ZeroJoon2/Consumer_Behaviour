{
 "cells": [
  {
   "cell_type": "code",
   "execution_count": 1,
   "id": "d8dd803a-a648-42e7-b9ce-d114431a970c",
   "metadata": {},
   "outputs": [],
   "source": [
    "import pandas as pd"
   ]
  },
  {
   "cell_type": "code",
   "execution_count": null,
   "id": "c6885987-3a89-4aee-969f-8e2252dff2df",
   "metadata": {},
   "outputs": [],
   "source": []
  },
  {
   "cell_type": "code",
   "execution_count": 2,
   "id": "d0ac9d7b-404b-49e3-acdf-09ade98a8566",
   "metadata": {},
   "outputs": [],
   "source": [
    "df = pd.read_csv('../JS/youtube_s24_1.csv')\n",
    "\n",
    "df.to_parquet('test.parquet', engine='pyarrow', index=False)"
   ]
  },
  {
   "cell_type": "code",
   "execution_count": 3,
   "id": "1760ef06-df05-40f0-a98f-880febddd8f7",
   "metadata": {},
   "outputs": [
    {
     "data": {
      "text/html": [
       "<div>\n",
       "<style scoped>\n",
       "    .dataframe tbody tr th:only-of-type {\n",
       "        vertical-align: middle;\n",
       "    }\n",
       "\n",
       "    .dataframe tbody tr th {\n",
       "        vertical-align: top;\n",
       "    }\n",
       "\n",
       "    .dataframe thead th {\n",
       "        text-align: right;\n",
       "    }\n",
       "</style>\n",
       "<table border=\"1\" class=\"dataframe\">\n",
       "  <thead>\n",
       "    <tr style=\"text-align: right;\">\n",
       "      <th></th>\n",
       "      <th>video_id</th>\n",
       "      <th>title</th>\n",
       "      <th>publish_date</th>\n",
       "      <th>channel_name</th>\n",
       "      <th>comment</th>\n",
       "      <th>like_count</th>\n",
       "      <th>comment_publish_date</th>\n",
       "    </tr>\n",
       "  </thead>\n",
       "  <tbody>\n",
       "    <tr>\n",
       "      <th>0</th>\n",
       "      <td>BAytLn0NhpI</td>\n",
       "      <td>갤럭시 S24+ VS 갤럭시 S24 울트라 둘 중 무엇을 사야할까 고민된다면?</td>\n",
       "      <td>2024-02-05T11:30:05Z</td>\n",
       "      <td>ITSub잇섭</td>\n",
       "      <td>플러스 겁나 이쁘네</td>\n",
       "      <td>0</td>\n",
       "      <td>2025-01-20T04:33:14Z</td>\n",
       "    </tr>\n",
       "    <tr>\n",
       "      <th>1</th>\n",
       "      <td>BAytLn0NhpI</td>\n",
       "      <td>갤럭시 S24+ VS 갤럭시 S24 울트라 둘 중 무엇을 사야할까 고민된다면?</td>\n",
       "      <td>2024-02-05T11:30:05Z</td>\n",
       "      <td>ITSub잇섭</td>\n",
       "      <td>어쩜 이렇게 설명을 잘하지</td>\n",
       "      <td>0</td>\n",
       "      <td>2025-01-17T12:15:56Z</td>\n",
       "    </tr>\n",
       "    <tr>\n",
       "      <th>2</th>\n",
       "      <td>BAytLn0NhpI</td>\n",
       "      <td>갤럭시 S24+ VS 갤럭시 S24 울트라 둘 중 무엇을 사야할까 고민된다면?</td>\n",
       "      <td>2024-02-05T11:30:05Z</td>\n",
       "      <td>ITSub잇섭</td>\n",
       "      <td>S24플이랑 24울트라랑 고민ㅈㄴ되네</td>\n",
       "      <td>0</td>\n",
       "      <td>2025-01-17T10:58:47Z</td>\n",
       "    </tr>\n",
       "    <tr>\n",
       "      <th>3</th>\n",
       "      <td>BAytLn0NhpI</td>\n",
       "      <td>갤럭시 S24+ VS 갤럭시 S24 울트라 둘 중 무엇을 사야할까 고민된다면?</td>\n",
       "      <td>2024-02-05T11:30:05Z</td>\n",
       "      <td>ITSub잇섭</td>\n",
       "      <td>ㄱㅎ비용 ㅎㅅ이라돈없을것같아도 양ㄱ에서 ㅂ2억낙넉</td>\n",
       "      <td>0</td>\n",
       "      <td>2025-01-16T14:58:31Z</td>\n",
       "    </tr>\n",
       "    <tr>\n",
       "      <th>4</th>\n",
       "      <td>BAytLn0NhpI</td>\n",
       "      <td>갤럭시 S24+ VS 갤럭시 S24 울트라 둘 중 무엇을 사야할까 고민된다면?</td>\n",
       "      <td>2024-02-05T11:30:05Z</td>\n",
       "      <td>ITSub잇섭</td>\n",
       "      <td>8th 8F 8B</td>\n",
       "      <td>0</td>\n",
       "      <td>2025-01-09T07:46:38Z</td>\n",
       "    </tr>\n",
       "    <tr>\n",
       "      <th>...</th>\n",
       "      <td>...</td>\n",
       "      <td>...</td>\n",
       "      <td>...</td>\n",
       "      <td>...</td>\n",
       "      <td>...</td>\n",
       "      <td>...</td>\n",
       "      <td>...</td>\n",
       "    </tr>\n",
       "    <tr>\n",
       "      <th>25029</th>\n",
       "      <td>PkcH00u1uYE</td>\n",
       "      <td>[단독 공개] 갤럭시 A35 2주 실사용 장단점 리뷰</td>\n",
       "      <td>2024-06-20T11:53:54Z</td>\n",
       "      <td>티노</td>\n",
       "      <td>굿</td>\n",
       "      <td>0</td>\n",
       "      <td>2024-06-20T11:56:07Z</td>\n",
       "    </tr>\n",
       "    <tr>\n",
       "      <th>25030</th>\n",
       "      <td>PkcH00u1uYE</td>\n",
       "      <td>[단독 공개] 갤럭시 A35 2주 실사용 장단점 리뷰</td>\n",
       "      <td>2024-06-20T11:53:54Z</td>\n",
       "      <td>티노</td>\n",
       "      <td>궁금해서 기다리고 있었어요!</td>\n",
       "      <td>3</td>\n",
       "      <td>2024-06-20T11:55:37Z</td>\n",
       "    </tr>\n",
       "    <tr>\n",
       "      <th>25031</th>\n",
       "      <td>PkcH00u1uYE</td>\n",
       "      <td>[단독 공개] 갤럭시 A35 2주 실사용 장단점 리뷰</td>\n",
       "      <td>2024-06-20T11:53:54Z</td>\n",
       "      <td>티노</td>\n",
       "      <td>아이패드 혹시 언제...</td>\n",
       "      <td>1</td>\n",
       "      <td>2024-06-20T11:54:45Z</td>\n",
       "    </tr>\n",
       "    <tr>\n",
       "      <th>25032</th>\n",
       "      <td>PkcH00u1uYE</td>\n",
       "      <td>[단독 공개] 갤럭시 A35 2주 실사용 장단점 리뷰</td>\n",
       "      <td>2024-06-20T11:53:54Z</td>\n",
       "      <td>티노</td>\n",
       "      <td>❤</td>\n",
       "      <td>0</td>\n",
       "      <td>2024-06-20T11:54:24Z</td>\n",
       "    </tr>\n",
       "    <tr>\n",
       "      <th>25033</th>\n",
       "      <td>PkcH00u1uYE</td>\n",
       "      <td>[단독 공개] 갤럭시 A35 2주 실사용 장단점 리뷰</td>\n",
       "      <td>2024-06-20T11:53:54Z</td>\n",
       "      <td>티노</td>\n",
       "      <td>1</td>\n",
       "      <td>0</td>\n",
       "      <td>2024-06-20T11:54:17Z</td>\n",
       "    </tr>\n",
       "  </tbody>\n",
       "</table>\n",
       "<p>25034 rows × 7 columns</p>\n",
       "</div>"
      ],
      "text/plain": [
       "          video_id                                        title  \\\n",
       "0      BAytLn0NhpI  갤럭시 S24+ VS 갤럭시 S24 울트라 둘 중 무엇을 사야할까 고민된다면?   \n",
       "1      BAytLn0NhpI  갤럭시 S24+ VS 갤럭시 S24 울트라 둘 중 무엇을 사야할까 고민된다면?   \n",
       "2      BAytLn0NhpI  갤럭시 S24+ VS 갤럭시 S24 울트라 둘 중 무엇을 사야할까 고민된다면?   \n",
       "3      BAytLn0NhpI  갤럭시 S24+ VS 갤럭시 S24 울트라 둘 중 무엇을 사야할까 고민된다면?   \n",
       "4      BAytLn0NhpI  갤럭시 S24+ VS 갤럭시 S24 울트라 둘 중 무엇을 사야할까 고민된다면?   \n",
       "...            ...                                          ...   \n",
       "25029  PkcH00u1uYE                [단독 공개] 갤럭시 A35 2주 실사용 장단점 리뷰   \n",
       "25030  PkcH00u1uYE                [단독 공개] 갤럭시 A35 2주 실사용 장단점 리뷰   \n",
       "25031  PkcH00u1uYE                [단독 공개] 갤럭시 A35 2주 실사용 장단점 리뷰   \n",
       "25032  PkcH00u1uYE                [단독 공개] 갤럭시 A35 2주 실사용 장단점 리뷰   \n",
       "25033  PkcH00u1uYE                [단독 공개] 갤럭시 A35 2주 실사용 장단점 리뷰   \n",
       "\n",
       "               publish_date channel_name                      comment  \\\n",
       "0      2024-02-05T11:30:05Z      ITSub잇섭                   플러스 겁나 이쁘네   \n",
       "1      2024-02-05T11:30:05Z      ITSub잇섭               어쩜 이렇게 설명을 잘하지   \n",
       "2      2024-02-05T11:30:05Z      ITSub잇섭         S24플이랑 24울트라랑 고민ㅈㄴ되네   \n",
       "3      2024-02-05T11:30:05Z      ITSub잇섭  ㄱㅎ비용 ㅎㅅ이라돈없을것같아도 양ㄱ에서 ㅂ2억낙넉   \n",
       "4      2024-02-05T11:30:05Z      ITSub잇섭                    8th 8F 8B   \n",
       "...                     ...          ...                          ...   \n",
       "25029  2024-06-20T11:53:54Z           티노                            굿   \n",
       "25030  2024-06-20T11:53:54Z           티노              궁금해서 기다리고 있었어요!   \n",
       "25031  2024-06-20T11:53:54Z           티노                아이패드 혹시 언제...   \n",
       "25032  2024-06-20T11:53:54Z           티노                            ❤   \n",
       "25033  2024-06-20T11:53:54Z           티노                            1   \n",
       "\n",
       "       like_count  comment_publish_date  \n",
       "0               0  2025-01-20T04:33:14Z  \n",
       "1               0  2025-01-17T12:15:56Z  \n",
       "2               0  2025-01-17T10:58:47Z  \n",
       "3               0  2025-01-16T14:58:31Z  \n",
       "4               0  2025-01-09T07:46:38Z  \n",
       "...           ...                   ...  \n",
       "25029           0  2024-06-20T11:56:07Z  \n",
       "25030           3  2024-06-20T11:55:37Z  \n",
       "25031           1  2024-06-20T11:54:45Z  \n",
       "25032           0  2024-06-20T11:54:24Z  \n",
       "25033           0  2024-06-20T11:54:17Z  \n",
       "\n",
       "[25034 rows x 7 columns]"
      ]
     },
     "execution_count": 3,
     "metadata": {},
     "output_type": "execute_result"
    }
   ],
   "source": [
    "pd.read_parquet('test.parquet')"
   ]
  },
  {
   "cell_type": "code",
   "execution_count": 1,
   "id": "d07bef7a-3804-49db-b68f-64a7de048607",
   "metadata": {},
   "outputs": [
    {
     "name": "stderr",
     "output_type": "stream",
     "text": [
      "25/02/03 15:41:24 WARN NativeCodeLoader: Unable to load native-hadoop library for your platform... using builtin-java classes where applicable\n",
      "Using Spark's default log4j profile: org/apache/spark/log4j-defaults.properties\n",
      "Setting default log level to \"WARN\".\n",
      "To adjust logging level use sc.setLogLevel(newLevel). For SparkR, use setLogLevel(newLevel).\n"
     ]
    },
    {
     "name": "stdout",
     "output_type": "stream",
     "text": [
      "+---+\n",
      "|idx|\n",
      "+---+\n",
      "|  1|\n",
      "|  2|\n",
      "|  3|\n",
      "|  4|\n",
      "|  5|\n",
      "|  6|\n",
      "|  7|\n",
      "|  8|\n",
      "|  9|\n",
      "| 10|\n",
      "+---+\n",
      "\n"
     ]
    },
    {
     "name": "stderr",
     "output_type": "stream",
     "text": [
      "                                                                                "
     ]
    }
   ],
   "source": [
    "import os\n",
    "from pyspark.sql import SparkSession\n",
    "\n",
    "host_ip = '15.168.221.131'\n",
    "DATABASE = 'sample'\n",
    "user_id = 'lab13'\n",
    "user_password = 'lab13'\n",
    "\n",
    "# 환경변수 설정\n",
    "os.environ['PYSPARK_SUBMIT_ARGS'] = '--jars /usr/local/lib/mysql-connector-java-5.1.49-bin.jar pyspark-shell'\n",
    "\n",
    "ss = SparkSession\\\n",
    "            .builder\\\n",
    "            .appName('MySQL')\\\n",
    "            .config('spark.executor.memory', '6g')\\\n",
    "            .config('spark.driver.memory', '6g')\\\n",
    "            .getOrCreate()\n",
    "\n",
    "mysql_url = f'jdbc:mysql://{host_ip}:3306/{DATABASE}?useSSL=false&allowPublicKeyRetrieval=true'\n",
    "ss.read.format('jdbc')\\\n",
    "            .options(\n",
    "                url = mysql_url\n",
    "                , driver = 'com.mysql.jdbc.Driver'\n",
    "                , dbtable = 'tbSample'\n",
    "                , user = user_id\n",
    "                , password = user_password\n",
    "                    )\\\n",
    "        .load()\\\n",
    "        .show()"
   ]
  },
  {
   "cell_type": "code",
   "execution_count": 2,
   "id": "c9ee709e-d82f-49bf-bc11-1fc920cb274b",
   "metadata": {},
   "outputs": [],
   "source": [
    "ss.stop()"
   ]
  },
  {
   "cell_type": "code",
   "execution_count": 3,
   "id": "3ab634f8-8515-4f07-b41d-64e5f35232bb",
   "metadata": {},
   "outputs": [],
   "source": [
    "from pyspark.sql import SparkSession\n",
    "\n",
    "# Spark 세션 생성\n",
    "spark = SparkSession.builder \\\n",
    "    .appName(\"HDFS Parquet Read\") \\\n",
    "    .config(\"spark.hadoop.fs.defaultFS\", \"hdfs://localhost:9000\") \\\n",
    "    .getOrCreate()\n"
   ]
  },
  {
   "cell_type": "code",
   "execution_count": 4,
   "id": "4529ab2d-6e89-47d6-a7a3-8b42f59130b2",
   "metadata": {},
   "outputs": [],
   "source": [
    "# HDFS에서 Parquet 파일 읽기\n",
    "df = spark.read.parquet(\"hdfs:///data/test.parquet\")"
   ]
  },
  {
   "cell_type": "code",
   "execution_count": 28,
   "id": "8d6057f1-e8e4-46c5-9281-addc35a21895",
   "metadata": {},
   "outputs": [],
   "source": [
    "spark.stop()"
   ]
  },
  {
   "cell_type": "code",
   "execution_count": 9,
   "id": "1e62b8ae-a766-4195-a41e-bd0ba46f6794",
   "metadata": {},
   "outputs": [],
   "source": [
    "import os\n",
    "# 환경변수 설정\n",
    "host_ip = '15.168.221.131'\n",
    "DATABASE = 'SNS_DB'\n",
    "user_id = 'lab13'\n",
    "user_password = 'lab13'"
   ]
  },
  {
   "cell_type": "code",
   "execution_count": 95,
   "id": "47151a75-4d76-470d-bccc-8217f78a9b1e",
   "metadata": {},
   "outputs": [],
   "source": [
    "mysql_url = f'jdbc:mysql://{host_ip}:3306/{DATABASE}?useSSL=false&allowPublicKeyRetrieval=true&useUnicode=true&characterEncoding=UTF-8'"
   ]
  },
  {
   "cell_type": "code",
   "execution_count": 48,
   "id": "184b52d2-df38-44a3-9468-27488acf4e13",
   "metadata": {},
   "outputs": [
    {
     "name": "stdout",
     "output_type": "stream",
     "text": [
      "+-----------+--------------------------+--------------------+------------+-----------------------------------+----------+--------------------+\n",
      "|   video_id|                     title|        publish_date|channel_name|                            comment|like_count|comment_publish_date|\n",
      "+-----------+--------------------------+--------------------+------------+-----------------------------------+----------+--------------------+\n",
      "|BAytLn0NhpI|갤럭시 S24+ VS 갤럭시 S...|2024-02-05T11:30:05Z|   ITSub잇섭|                 플러스 겁나 이쁘네|         0|2025-01-20T04:33:14Z|\n",
      "|BAytLn0NhpI|갤럭시 S24+ VS 갤럭시 S...|2024-02-05T11:30:05Z|   ITSub잇섭|          어쩜 이렇게 설명을 잘하지|         0|2025-01-17T12:15:56Z|\n",
      "|BAytLn0NhpI|갤럭시 S24+ VS 갤럭시 S...|2024-02-05T11:30:05Z|   ITSub잇섭|  S24플이랑 24울트라랑 고민ㅈㄴ되네|         0|2025-01-17T10:58:47Z|\n",
      "|BAytLn0NhpI|갤럭시 S24+ VS 갤럭시 S...|2024-02-05T11:30:05Z|   ITSub잇섭|ㄱㅎ비용 ㅎㅅ이라돈없을것같아도 ...|         0|2025-01-16T14:58:31Z|\n",
      "|BAytLn0NhpI|갤럭시 S24+ VS 갤럭시 S...|2024-02-05T11:30:05Z|   ITSub잇섭|                          8th 8F 8B|         0|2025-01-09T07:46:38Z|\n",
      "|BAytLn0NhpI|갤럭시 S24+ VS 갤럭시 S...|2024-02-05T11:30:05Z|   ITSub잇섭|    이번에 25로 기변 할려는데 플...|         2|2024-12-19T15:55:31Z|\n",
      "|BAytLn0NhpI|갤럭시 S24+ VS 갤럭시 S...|2024-02-05T11:30:05Z|   ITSub잇섭|    갤노트 20을 사용하고 있는데 ...|         1|2024-12-17T02:16:07Z|\n",
      "|BAytLn0NhpI|갤럭시 S24+ VS 갤럭시 S...|2024-02-05T11:30:05Z|   ITSub잇섭|                             아이폰|         0|2024-12-10T07:12:47Z|\n",
      "|BAytLn0NhpI|갤럭시 S24+ VS 갤럭시 S...|2024-02-05T11:30:05Z|   ITSub잇섭|             갤럭시, 대 아이폰 ㄱㄱ|         0|2024-12-04T14:03:43Z|\n",
      "|BAytLn0NhpI|갤럭시 S24+ VS 갤럭시 S...|2024-02-05T11:30:05Z|   ITSub잇섭|                    2억만 화소?????|         0|2024-12-03T13:10:56Z|\n",
      "|BAytLn0NhpI|갤럭시 S24+ VS 갤럭시 S...|2024-02-05T11:30:05Z|   ITSub잇섭|        5:29 뭔가 이상한데 ㅋㅋㅋㅋ|         2|2024-12-02T08:48:38Z|\n",
      "|BAytLn0NhpI|갤럭시 S24+ VS 갤럭시 S...|2024-02-05T11:30:05Z|   ITSub잇섭|   평택연. 반도제 공장이지. 핸듭...|         0|2024-11-30T07:34:43Z|\n",
      "|BAytLn0NhpI|갤럭시 S24+ VS 갤럭시 S...|2024-02-05T11:30:05Z|   ITSub잇섭|  기술 이미 다 털려서 기술력으로...|         1|2024-11-29T08:57:17Z|\n",
      "|BAytLn0NhpI|갤럭시 S24+ VS 갤럭시 S...|2024-02-05T11:30:05Z|   ITSub잇섭|   플러스에 펜을 다시 넣어주면.....|         1|2024-11-28T12:51:05Z|\n",
      "|BAytLn0NhpI|갤럭시 S24+ VS 갤럭시 S...|2024-02-05T11:30:05Z|   ITSub잇섭|   잇섭님 갤럭시s24울트라 같은기...|         0|2024-11-14T02:30:40Z|\n",
      "|BAytLn0NhpI|갤럭시 S24+ VS 갤럭시 S...|2024-02-05T11:30:05Z|   ITSub잇섭| 따라할걸 따라했어야 되는데 아이...|         0|2024-11-10T12:32:52Z|\n",
      "|BAytLn0NhpI|갤럭시 S24+ VS 갤럭시 S...|2024-02-05T11:30:05Z|   ITSub잇섭|  잇섭님 지금 노트9사용하고 있는...|         0|2024-11-10T06:12:25Z|\n",
      "|BAytLn0NhpI|갤럭시 S24+ VS 갤럭시 S...|2024-02-05T11:30:05Z|   ITSub잇섭| 플러스무게로 울트라가 나왔으면 ...|         0|2024-11-05T23:33:57Z|\n",
      "|BAytLn0NhpI|갤럭시 S24+ VS 갤럭시 S...|2024-02-05T11:30:05Z|   ITSub잇섭|     지금 s20플러스 3년넘게 쓰고...|         0|2024-11-01T16:34:09Z|\n",
      "|BAytLn0NhpI|갤럭시 S24+ VS 갤럭시 S...|2024-02-05T11:30:05Z|   ITSub잇섭|     갤럭시 S25해주세요 출시일:1...|         0|2024-10-24T12:01:44Z|\n",
      "+-----------+--------------------------+--------------------+------------+-----------------------------------+----------+--------------------+\n",
      "only showing top 20 rows\n",
      "\n"
     ]
    }
   ],
   "source": [
    "df.show()"
   ]
  },
  {
   "cell_type": "code",
   "execution_count": 53,
   "id": "61fae6a9-5a81-4e56-936c-d1126a55a077",
   "metadata": {},
   "outputs": [
    {
     "name": "stdout",
     "output_type": "stream",
     "text": [
      "+-----------+--------------------------+-------------------+------------+-----------------------------------+----------+--------------------+\n",
      "|   video_id|                     title|       publish_date|channel_name|                            comment|like_count|comment_publish_date|\n",
      "+-----------+--------------------------+-------------------+------------+-----------------------------------+----------+--------------------+\n",
      "|BAytLn0NhpI|갤럭시 S24+ VS 갤럭시 S...|2025-01-20 04:33:14|   ITSub잇섭|                 플러스 겁나 이쁘네|         0| 2025-01-20 04:33:14|\n",
      "|BAytLn0NhpI|갤럭시 S24+ VS 갤럭시 S...|2025-01-17 12:15:56|   ITSub잇섭|          어쩜 이렇게 설명을 잘하지|         0| 2025-01-17 12:15:56|\n",
      "|BAytLn0NhpI|갤럭시 S24+ VS 갤럭시 S...|2025-01-17 10:58:47|   ITSub잇섭|  S24플이랑 24울트라랑 고민ㅈㄴ되네|         0| 2025-01-17 10:58:47|\n",
      "|BAytLn0NhpI|갤럭시 S24+ VS 갤럭시 S...|2025-01-16 14:58:31|   ITSub잇섭|ㄱㅎ비용 ㅎㅅ이라돈없을것같아도 ...|         0| 2025-01-16 14:58:31|\n",
      "|BAytLn0NhpI|갤럭시 S24+ VS 갤럭시 S...|2025-01-09 07:46:38|   ITSub잇섭|                          8th 8F 8B|         0| 2025-01-09 07:46:38|\n",
      "+-----------+--------------------------+-------------------+------------+-----------------------------------+----------+--------------------+\n",
      "only showing top 5 rows\n",
      "\n"
     ]
    }
   ],
   "source": [
    "from pyspark.sql.functions import col, to_timestamp\n",
    "convert_cols = ['comment_publish_date', 'publish_date']\n",
    "for c in convert_cols:\n",
    "    df = df.withColumn(c\n",
    "                     , to_timestamp(col('comment_publish_date'), \"yyyy-MM-dd'T'HH:mm:ss'Z'\")\n",
    "                     )\n",
    "df.show(5)\n"
   ]
  },
  {
   "cell_type": "code",
   "execution_count": 79,
   "id": "223c54a4-314c-40f6-ae23-50039aee98b0",
   "metadata": {},
   "outputs": [],
   "source": [
    "df = df.dropna()"
   ]
  },
  {
   "cell_type": "code",
   "execution_count": 90,
   "id": "27a11bd6-bb0f-482a-a7fa-67210266d058",
   "metadata": {},
   "outputs": [
    {
     "data": {
      "text/plain": [
       "'SNS_DB'"
      ]
     },
     "execution_count": 90,
     "metadata": {},
     "output_type": "execute_result"
    }
   ],
   "source": [
    "DATABASE"
   ]
  },
  {
   "cell_type": "code",
   "execution_count": 96,
   "id": "0c60c584-ef8c-4db7-a25e-e2485068fcb5",
   "metadata": {},
   "outputs": [],
   "source": [
    "import pymysql\n",
    "\n",
    "# PyMySQL로 MySQL 연결 (SQL 실행을 위해)\n",
    "conn = pymysql.connect(\n",
    "    host=host_ip,\n",
    "    user=user_id,\n",
    "    password=user_password,\n",
    "    database=DATABASE,\n",
    ")\n",
    "\n",
    "cursor = conn.cursor()\n",
    "\n",
    "# ✅ MySQL 테이블 `TRUNCATE`\n",
    "truncate_query = \"TRUNCATE TABLE tbCrawled_Youtube\"\n",
    "cursor.execute(truncate_query)\n",
    "\n",
    "conn.commit()\n",
    "cursor.close()\n",
    "conn.close()\n"
   ]
  },
  {
   "cell_type": "code",
   "execution_count": 97,
   "id": "e3686d8f-55f1-44a7-94f3-96f647572fb4",
   "metadata": {},
   "outputs": [
    {
     "name": "stderr",
     "output_type": "stream",
     "text": [
      "                                                                                "
     ]
    }
   ],
   "source": [
    "os.environ['PYSPARK_SUBMIT_ARGS'] = '--jars /usr/local/lib/mysql-connector-java-5.1.49-bin.jar pyspark-shell'\n",
    "df.write.format('jdbc')\\\n",
    "    .options(\n",
    "        url = mysql_url\n",
    "        , driver = 'com.mysql.jdbc.Driver'\n",
    "        , dbtable = 'tbCrawled_Youtube'\n",
    "        , user = user_id\n",
    "        , password = user_password\n",
    "    )\\\n",
    "    .mode('append')\\\n",
    "    .save()"
   ]
  }
 ],
 "metadata": {
  "kernelspec": {
   "display_name": "Project",
   "language": "python",
   "name": "project"
  },
  "language_info": {
   "codemirror_mode": {
    "name": "ipython",
    "version": 3
   },
   "file_extension": ".py",
   "mimetype": "text/x-python",
   "name": "python",
   "nbconvert_exporter": "python",
   "pygments_lexer": "ipython3",
   "version": "3.8.0"
  }
 },
 "nbformat": 4,
 "nbformat_minor": 5
}
