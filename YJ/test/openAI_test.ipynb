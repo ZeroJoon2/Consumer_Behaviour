{
 "cells": [
  {
   "cell_type": "code",
   "execution_count": 36,
   "id": "03959127-4b94-4160-9cb5-e3e7d718fa0f",
   "metadata": {},
   "outputs": [],
   "source": [
    "import openai\n",
    "import re\n",
    "import os\n",
    "import emoji\n",
    "\n",
    "# ✅ OpenAI API Key 설정 (환경변수 활용 추천)\n",
    "api_key = ''\n",
    "\n",
    "client = openai.OpenAI(api_key=api_key)\n",
    "\n",
    "def remove_emojis(text):\n",
    "    \"\"\"이모지 및 비ASCII 문자 제거\"\"\"\n",
    "    text = emoji.replace_emoji(text, replace='')  # 이모지 제거\n",
    "    text = re.sub(r'[^\\x00-\\x7F]+', '', text)  # 비ASCII 문자 제거\n",
    "    return text\n",
    "\n",
    "def get_keyword(user_input):   \n",
    "    \"\"\"OpenAI API를 사용하여 5개의 키워드를 추출하는 함수\"\"\"\n",
    "    try:\n",
    "        # ✅ 시스템 프롬프트 정의\n",
    "        system_prompt = f\"\"\"\n",
    "        너는 사용자에게 스마트폰을 추천해주는 사람이야.\n",
    "\n",
    "        아래 기준을 꼭 지켜줘\n",
    "\n",
    "        [기준]\n",
    "        1. {user_input}에 필요한 스마트폰 기능 또는 사양, 부품을 추천해야해\n",
    "        2. 어떠한 설명이나 부가적인 말들은 제거하고 꼭 필요한 키워드 5개만 제공해줘\n",
    "        3. 키워드 5개는 쉼표(,)로 구분해서 제공해줘\n",
    "        4. 이 사항을 꼭 숙지해줘\n",
    "\n",
    "        [예시]\n",
    "        user_input : '영화 보기'\n",
    "        \n",
    "        원하는 결과 : 배터리, 휴대폰 크기, 화질, 저장용량, 스피커 품질\n",
    "        \"\"\"\n",
    "\n",
    "        # ✅ 사용자 입력 포함\n",
    "        user_prompt = f'휴대폰을 살때 고려해야하는 점에서 \"{user_input}과 관련된 키워드 5개를 선별해줘.'\n",
    "\n",
    "        # ✅ OpenAI API 호출 (최신 버전)\n",
    "        response = client.chat.completions.create(\n",
    "            model=\"gpt-3.5-turbo\",\n",
    "            messages=[\n",
    "                {\"role\": \"system\", \"content\": system_prompt},\n",
    "                {\"role\": \"user\", \"content\": user_prompt}\n",
    "            ],\n",
    "            temperature=0.2  # ✅ 정답이 일관되게 나오도록 설정\n",
    "        )\n",
    "\n",
    "        # ✅ 응답 데이터 처리\n",
    "        raw_output = response.choices[0].message.content.strip()\n",
    "\n",
    "        return raw_output\n",
    "\n",
    "    except Exception as e:\n",
    "        print(f\"⚠️ 오류 발생: {e}\")\n",
    "        return 0\n",
    "\n",
    "# def main(keyword):\n",
    "#     \"\"\"키워드를 5개 정확히 추출하는 메인 루프\"\"\"\n",
    "#     while True:\n",
    "#         res = get_keyword(keyword)\n",
    "\n",
    "#         if len(res) == 5 and all(res):  # ✅ 5개이며 공백이 없는 경우만 성공\n",
    "#             print(\"✅ 5개 추출 성공:\", res)\n",
    "#             break\n",
    "#         else:\n",
    "#             print(\"🔄 다시 시도 중...\")\n"
   ]
  },
  {
   "cell_type": "code",
   "execution_count": 35,
   "id": "45b348e9-0280-47de-9a6b-7412262a2154",
   "metadata": {},
   "outputs": [
    {
     "data": {
      "text/plain": [
       "'화질, 안정감, 음질, 속도, 저장공간'"
      ]
     },
     "execution_count": 35,
     "metadata": {},
     "output_type": "execute_result"
    }
   ],
   "source": [
    "output = get_keyword('영상 제작')\n",
    "output"
   ]
  },
  {
   "cell_type": "code",
   "execution_count": 23,
   "id": "d438bad8-52fd-4983-92a2-e21d81c2e3ad",
   "metadata": {},
   "outputs": [
    {
     "data": {
      "text/plain": [
       "'내구성, 방수, GPS, 배터리 수명, 헬스 트래킹 기능'"
      ]
     },
     "execution_count": 23,
     "metadata": {},
     "output_type": "execute_result"
    }
   ],
   "source": [
    "output = get_keyword('운동하기')\n",
    "output"
   ]
  },
  {
   "cell_type": "code",
   "execution_count": 24,
   "id": "41f5e482-f8c1-4a0c-ad42-956220dc98d4",
   "metadata": {},
   "outputs": [
    {
     "data": {
      "text/plain": [
       "'화면 크기, 디스플레이 해상도, 밝기 조절, 눈 보호 모드, 배터리 수명'"
      ]
     },
     "execution_count": 24,
     "metadata": {},
     "output_type": "execute_result"
    }
   ],
   "source": [
    "output = get_keyword('만화책 읽기')\n",
    "output"
   ]
  },
  {
   "cell_type": "code",
   "execution_count": 32,
   "id": "383dcf87-30c7-4b93-89b5-93f0e334736c",
   "metadata": {},
   "outputs": [
    {
     "name": "stdout",
     "output_type": "stream",
     "text": [
      "\n",
      "    영상 제작\n",
      "    카메라 해상도, 렌즈 종류, 화면 해상도, RAM 용량, 저장 용량\n",
      "    \n",
      "\n",
      "    사진 촬영\n",
      "    카메라 해상도, 광각 렌즈, 조리개 값, 광항성, 광학 줌\n",
      "    \n",
      "\n",
      "    디지털 아트\n",
      "    화면 해상도, 그래픽 성능, RAM 용량, 저장 용량, 전면 카메라 해상도\n",
      "    \n",
      "\n",
      "    음악 & 사운드\n",
      "    음악 품질, 스피커 품질, 이어폰 단자, DAC, 오디오 코덱\n",
      "    \n",
      "\n",
      "    쇼핑 & 패션\n",
      "    카메라 품질, 화면 크기, 디자인, 색상 다양성, 액세서리 호환성\n",
      "    \n",
      "\n",
      "    SNS & 커뮤니티\n",
      "    카메라 품질, 배터리 수명, 화면 크기, 저장 용량, RAM 용량\n",
      "    \n",
      "\n",
      "    여행 & 탐방\n",
      "    배터리, 카메라 품질, 내장 저장공간, 방수 기능, GPS\n",
      "    \n",
      "\n",
      "    모바일 게임\n",
      "    RAM, 그래픽 카드, 화면 주사율, 배터리 수명, 내장 저장공간\n",
      "    \n",
      "\n",
      "    독서 & 필기\n",
      "    화면 크기, 화면 해상도, 전면 카메라 해상도, RAM 용량, 저장 용량\n",
      "    \n",
      "\n",
      "    운동 & 건강\n",
      "    배터리 수명, GPS 센서, 방수 기능, 걸음 수 측정, 심박수 측정\n",
      "    \n"
     ]
    }
   ],
   "source": [
    "list_list = ['영상 제작', '사진 촬영', '디지털 아트', '음악 & 사운드', '쇼핑 & 패션', 'SNS & 커뮤니티', '여행 & 탐방', '모바일 게임', '독서 & 필기', '운동 & 건강']\n",
    "\n",
    "for i in list_list:\n",
    "    output = get_keyword(i)\n",
    "    print(f'''\n",
    "    {i}\n",
    "    {output}\n",
    "    ''')"
   ]
  }
 ],
 "metadata": {
  "kernelspec": {
   "display_name": "pytorch_p39",
   "language": "python",
   "name": "pytorch_p39"
  },
  "language_info": {
   "codemirror_mode": {
    "name": "ipython",
    "version": 3
   },
   "file_extension": ".py",
   "mimetype": "text/x-python",
   "name": "python",
   "nbconvert_exporter": "python",
   "pygments_lexer": "ipython3",
   "version": "3.9.21"
  }
 },
 "nbformat": 4,
 "nbformat_minor": 5
}
