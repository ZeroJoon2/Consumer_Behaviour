{
 "cells": [
  {
   "cell_type": "code",
   "execution_count": 3,
   "id": "4fb1e1e0-07ed-4653-9f00-bc4a13db6c5a",
   "metadata": {},
   "outputs": [
    {
     "ename": "SyntaxError",
     "evalue": "invalid syntax (1552305245.py, line 8)",
     "output_type": "error",
     "traceback": [
      "\u001b[0;36m  Cell \u001b[0;32mIn[3], line 8\u001b[0;36m\u001b[0m\n\u001b[0;31m    with DAG(\u001b[0m\n\u001b[0m    ^\u001b[0m\n\u001b[0;31mSyntaxError\u001b[0m\u001b[0;31m:\u001b[0m invalid syntax\n"
     ]
    }
   ],
   "source": [
    "from airflow.datasets import Dataset\n",
    "from airflow import DAG\n",
    "from airflow.operators.dummy import DummyOperator\n",
    "from datetime import datetime\n",
    "\n",
    "class MyOperator(bass\n",
    "\n",
    "with DAG(\n",
    "    dag_id=\"example_dag\",  # DAG ID를 명확한 문자열로 설정\n",
    "    start_date=datetime(2024, 2, 1),\n",
    "    schedule_interval=\"@daily\",\n",
    "    catchup=False\n",
    ") as dag:\n",
    "    update_task = DummyOperator(\n",
    "        task_id=\"update_dataset\",\n",
    "        outlets=[Dataset(\"hdfs:///data/test.parquet\")]\n",
    "    )\n",
    "\n",
    "    dummy_task = DummyOperator(task_id=\"dummy\")\n",
    "\n",
    "    update_task >> dummy_task\n"
   ]
  },
  {
   "cell_type": "code",
   "execution_count": null,
   "id": "51954b62-fbb4-4692-b0c2-ecb64027faac",
   "metadata": {},
   "outputs": [],
   "source": [
    "py"
   ]
  }
 ],
 "metadata": {
  "kernelspec": {
   "display_name": "airflow_p38",
   "language": "python",
   "name": "airflow_p38"
  },
  "language_info": {
   "codemirror_mode": {
    "name": "ipython",
    "version": 3
   },
   "file_extension": ".py",
   "mimetype": "text/x-python",
   "name": "python",
   "nbconvert_exporter": "python",
   "pygments_lexer": "ipython3",
   "version": "3.8.20"
  }
 },
 "nbformat": 4,
 "nbformat_minor": 5
}
