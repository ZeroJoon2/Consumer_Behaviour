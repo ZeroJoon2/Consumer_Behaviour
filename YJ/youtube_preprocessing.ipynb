{
 "cells": [
  {
   "cell_type": "code",
   "execution_count": 14,
   "id": "8676bf24-2e3c-4cdc-8d21-62c0cdb33895",
   "metadata": {},
   "outputs": [
    {
     "data": {
      "text/plain": [
       "True"
      ]
     },
     "execution_count": 14,
     "metadata": {},
     "output_type": "execute_result"
    }
   ],
   "source": [
    "from pyspark.sql import SparkSession\n",
    "from pyspark.sql.functions import col, to_timestamp\n",
    "import os\n",
    "from dotenv import load_dotenv\n",
    "\n",
    "import pymysql\n",
    "# 상위 폴더(../)에 있는 `.env` 파일 로드\n",
    "dotenv_path = os.path.abspath(os.path.join(os.getcwd(), \"..\", \".env\"))\n",
    "load_dotenv(dotenv_path)\n"
   ]
  },
  {
   "cell_type": "code",
   "execution_count": 12,
   "id": "ee7f2b02-d0cd-4b27-b262-2a5e1d4c071e",
   "metadata": {},
   "outputs": [],
   "source": [
    "## mysql 연결\n",
    "os.getenv('user_id')\n",
    "os.getenv('user_password')\n",
    "\n",
    "mysql_url = f\"jdbc:mysql://{os.getenv('host_ip')}:3306/{os.getenv('DATABASE')}?useSSL=false&allowPublicKeyRetrieval=true&useUnicode=true&characterEncoding=UTF-8\""
   ]
  },
  {
   "cell_type": "code",
   "execution_count": 17,
   "id": "27722c1c-adbf-49d8-b4ea-84e629e7c1e7",
   "metadata": {},
   "outputs": [
    {
     "name": "stderr",
     "output_type": "stream",
     "text": [
      "25/02/03 17:35:18 WARN NativeCodeLoader: Unable to load native-hadoop library for your platform... using builtin-java classes where applicable\n",
      "Using Spark's default log4j profile: org/apache/spark/log4j-defaults.properties\n",
      "Setting default log level to \"WARN\".\n",
      "To adjust logging level use sc.setLogLevel(newLevel). For SparkR, use setLogLevel(newLevel).\n"
     ]
    }
   ],
   "source": [
    "# SparkSession 생성\n",
    "spark = SparkSession.builder \\\n",
    "    .appName(\"HDFS to MySQL\") \\\n",
    "    .config(\"spark.hadoop.fs.defaultFS\", \"hdfs://localhost:9000\") \\\n",
    "    .getOrCreate()\n"
   ]
  },
  {
   "cell_type": "code",
   "execution_count": 23,
   "id": "04263bfe-95dd-45ed-a571-4c5f3f833b52",
   "metadata": {},
   "outputs": [
    {
     "name": "stdout",
     "output_type": "stream",
     "text": [
      "136568\n"
     ]
    }
   ],
   "source": [
    "# HDFS에 있는 모든 Parquet 파일 로드\n",
    "df = spark.read.parquet(\"hdfs:///data/\")\n",
    "print(df.count())"
   ]
  },
  {
   "cell_type": "code",
   "execution_count": 24,
   "id": "1a2c2032-fdcc-4175-9c57-73b423973b5a",
   "metadata": {},
   "outputs": [],
   "source": [
    "## 시간 형식 수정(yyyy.mm.dd HH:MM:SS)\n",
    "convert_cols = ['comment_publish_date', 'publish_date']\n",
    "for c in convert_cols:\n",
    "    df = df.withColumn(c\n",
    "                     , to_timestamp(col('comment_publish_date'), \"yyyy-MM-dd'T'HH:mm:ss'Z'\")\n",
    "                     )"
   ]
  },
  {
   "cell_type": "code",
   "execution_count": 25,
   "id": "ec7037ca-2607-4946-a8b5-a2cb1d2fe9f2",
   "metadata": {},
   "outputs": [],
   "source": [
    "## 결측치 제거\n",
    "df = df.dropna()"
   ]
  },
  {
   "cell_type": "code",
   "execution_count": 26,
   "id": "696f8664-ef56-40bf-98e6-0a33648a3bf2",
   "metadata": {},
   "outputs": [],
   "source": [
    "# PyMySQL로 MySQL 연결 (SQL 실행을 위해)\n",
    "conn = pymysql.connect(\n",
    "    host=host_ip,\n",
    "    user=user_id,\n",
    "    password=user_password,\n",
    "    database=DATABASE,\n",
    ")\n",
    "\n",
    "cursor = conn.cursor()\n",
    "\n",
    "# ✅ MySQL 테이블 `TRUNCATE`\n",
    "truncate_query = \"TRUNCATE TABLE tbCrawled_Youtube\"\n",
    "cursor.execute(truncate_query)\n",
    "\n",
    "conn.commit()\n",
    "cursor.close()\n",
    "conn.close()\n"
   ]
  },
  {
   "cell_type": "code",
   "execution_count": 27,
   "id": "c89dafff-8def-4c79-821e-fe1e8e86e72a",
   "metadata": {},
   "outputs": [
    {
     "name": "stderr",
     "output_type": "stream",
     "text": [
      "                                                                                "
     ]
    }
   ],
   "source": [
    "os.environ['PYSPARK_SUBMIT_ARGS'] = '--jars /usr/local/lib/mysql-connector-java-5.1.49-bin.jar pyspark-shell'\n",
    "df.write.format('jdbc')\\\n",
    "    .options(\n",
    "        url = mysql_url\n",
    "        , driver = 'com.mysql.jdbc.Driver'\n",
    "        , dbtable = 'tbCrawled_Youtube'\n",
    "        , user = user_id\n",
    "        , password = user_password\n",
    "    )\\\n",
    "    .mode('append')\\\n",
    "    .save()"
   ]
  },
  {
   "cell_type": "code",
   "execution_count": 28,
   "id": "ba6f2b84-a940-407a-961e-fbbbad96450c",
   "metadata": {},
   "outputs": [],
   "source": [
    "spark.stop()"
   ]
  }
 ],
 "metadata": {
  "kernelspec": {
   "display_name": "Project",
   "language": "python",
   "name": "project"
  },
  "language_info": {
   "codemirror_mode": {
    "name": "ipython",
    "version": 3
   },
   "file_extension": ".py",
   "mimetype": "text/x-python",
   "name": "python",
   "nbconvert_exporter": "python",
   "pygments_lexer": "ipython3",
   "version": "3.8.0"
  }
 },
 "nbformat": 4,
 "nbformat_minor": 5
}
