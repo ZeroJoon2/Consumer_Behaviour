{
 "cells": [
  {
   "cell_type": "code",
   "execution_count": null,
   "id": "ce21f06a-1f30-4380-bb26-28e53b436f5d",
   "metadata": {},
   "outputs": [],
   "source": [
    "from airflow import DAG\n",
    "from airflow.operators.python import PythonOperator\n",
    "from airflow.operators.bash import BashOperator\n",
    "from airflow.sensors.external_task import ExternalTaskSensor\n",
    "from datetime import datetime, timedelta\n",
    "\n",
    "from youtube_preprocessing import main\n",
    "\n",
    "\n",
    "default_args = {\n",
    "    'owner': 'airflow',\n",
    "    'depends_on_past': False,\n",
    "    'start_date': datetime(2024, 2, 1),\n",
    "    'retries': 1,\n",
    "    'retry_delay': timedelta(minutes=5),\n",
    "}\n",
    "\n",
    "with DAG(\n",
    "    'to_hdfs',\n",
    "    default_args=default_args,\n",
    "    schedule_interval='0 0 1 * *',\n",
    "    catchup=False\n",
    ") as dag:\n",
    "\n",
    "    to_hdfs = BashOperator(\n",
    "        task_id='to_hdfs'\n",
    "        , bash_command = '''\n",
    "        cd /home/lab13/project/YJ &&\n",
    "        hdfs dfs -mkdir -p /data &&\n",
    "        hdfs dfs -put *.parquet /data\n",
    "        '''\n",
    "        , dag=dag\n",
    "    )\n",
    "\n",
    "    to_hdfs\n",
    "\n"
   ]
  },
  {
   "cell_type": "code",
   "execution_count": null,
   "id": "1fcafc40-20b2-46b6-9b21-8fdb61087524",
   "metadata": {},
   "outputs": [],
   "source": []
  }
 ],
 "metadata": {
  "kernelspec": {
   "display_name": "airflow_p38",
   "language": "python",
   "name": "airflow_p38"
  },
  "language_info": {
   "codemirror_mode": {
    "name": "ipython",
    "version": 3
   },
   "file_extension": ".py",
   "mimetype": "text/x-python",
   "name": "python",
   "nbconvert_exporter": "python",
   "pygments_lexer": "ipython3",
   "version": "3.8.20"
  }
 },
 "nbformat": 4,
 "nbformat_minor": 5
}
