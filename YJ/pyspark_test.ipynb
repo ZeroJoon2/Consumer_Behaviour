{
 "cells": [
  {
   "cell_type": "code",
   "execution_count": 1,
   "id": "dc251986",
   "metadata": {},
   "outputs": [
    {
     "name": "stderr",
     "output_type": "stream",
     "text": [
      "25/02/03 15:40:31 WARN NativeCodeLoader: Unable to load native-hadoop library for your platform... using builtin-java classes where applicable\n",
      "Using Spark's default log4j profile: org/apache/spark/log4j-defaults.properties\n",
      "Setting default log level to \"WARN\".\n",
      "To adjust logging level use sc.setLogLevel(newLevel). For SparkR, use setLogLevel(newLevel).\n",
      "25/02/03 15:40:33 WARN Utils: Service 'SparkUI' could not bind on port 4040. Attempting port 4041.\n"
     ]
    },
    {
     "name": "stdout",
     "output_type": "stream",
     "text": [
      "+---+\n",
      "|idx|\n",
      "+---+\n",
      "|  1|\n",
      "|  2|\n",
      "|  3|\n",
      "|  4|\n",
      "|  5|\n",
      "|  6|\n",
      "|  7|\n",
      "|  8|\n",
      "|  9|\n",
      "| 10|\n",
      "+---+\n",
      "\n"
     ]
    },
    {
     "name": "stderr",
     "output_type": "stream",
     "text": [
      "                                                                                "
     ]
    }
   ],
   "source": [
    "import os\n",
    "from pyspark.sql import SparkSession\n",
    "\n",
    "host_ip = '15.168.221.131'\n",
    "DATABASE = 'sample'\n",
    "user_id = 'lab13'\n",
    "user_password = 'lab13'\n",
    "\n",
    "# 환경변수 설정\n",
    "os.environ['PYSPARK_SUBMIT_ARGS'] = '--jars /usr/local/lib/mysql-connector-java-5.1.49-bin.jar pyspark-shell'\n",
    "\n",
    "ss = SparkSession\\\n",
    "            .builder\\\n",
    "            .appName('MySQL')\\\n",
    "            .config('spark.executor.memory', '6g')\\\n",
    "            .config('spark.driver.memory', '6g')\\\n",
    "            .getOrCreate()\n",
    "\n",
    "mysql_url = f'jdbc:mysql://{host_ip}:3306/{DATABASE}?useSSL=false&allowPublicKeyRetrieval=true'\n",
    "ss.read.format('jdbc')\\\n",
    "            .options(\n",
    "                url = mysql_url\n",
    "                , driver = 'com.mysql.jdbc.Driver'\n",
    "                , dbtable = 'tbSample'\n",
    "                , user = user_id\n",
    "                , password = user_password\n",
    "                    )\\\n",
    "        .load()\\\n",
    "        .show()"
   ]
  },
  {
   "cell_type": "code",
   "execution_count": 2,
   "id": "6763324e",
   "metadata": {},
   "outputs": [],
   "source": [
    "ss.stop()"
   ]
  }
 ],
 "metadata": {
  "kernelspec": {
   "display_name": "Project",
   "language": "python",
   "name": "project"
  },
  "language_info": {
   "codemirror_mode": {
    "name": "ipython",
    "version": 3
   },
   "file_extension": ".py",
   "mimetype": "text/x-python",
   "name": "python",
   "nbconvert_exporter": "python",
   "pygments_lexer": "ipython3",
   "version": "3.8.0"
  }
 },
 "nbformat": 4,
 "nbformat_minor": 5
}
