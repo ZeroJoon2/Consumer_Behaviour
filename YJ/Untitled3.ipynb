{
 "cells": [
  {
   "cell_type": "code",
   "execution_count": null,
   "id": "eeed3f86-239f-4252-94c8-76df0439a76d",
   "metadata": {},
   "outputs": [],
   "source": [
    "from airflow import DAG\n",
    "from airflow.operators.python import PythonOperator\n",
    "from airflow.operators.bash import BashOperator\n",
    "from airflow.sensors.external_task import ExternalTaskSensor\n",
    "from datetime import datetime, timedelta\n",
    "\n",
    "from youtube_preprocessing import main\n",
    "\n",
    "\n",
    "default_args = {\n",
    "    'owner': 'airflow',\n",
    "    'depends_on_past': False,\n",
    "    'start_date': datetime(2024, 2, 1),\n",
    "    'retries': 1,\n",
    "    'retry_delay': timedelta(minutes=5),\n",
    "}\n",
    "\n",
    "with DAG(\n",
    "    'upload_to_hdfs',\n",
    "    default_args=default_args,\n",
    "    schedule_interval='0 0 1 * *',\n",
    "    catchup=False\n",
    ") as dag:\n",
    "\n",
    "    preprocessing_task = PythonOperator(\n",
    "        task_id='preprocessing'\n",
    "        , python_callable=main\n",
    "        , dag=dag\n",
    "    )\n",
    "\n",
    "wait_Crawling_API >> preprocessing_task\n"
   ]
  }
 ],
 "metadata": {
  "kernelspec": {
   "display_name": "Project",
   "language": "python",
   "name": "project"
  },
  "language_info": {
   "codemirror_mode": {
    "name": "ipython",
    "version": 3
   },
   "file_extension": ".py",
   "mimetype": "text/x-python",
   "name": "python",
   "nbconvert_exporter": "python",
   "pygments_lexer": "ipython3",
   "version": "3.8.0"
  }
 },
 "nbformat": 4,
 "nbformat_minor": 5
}
