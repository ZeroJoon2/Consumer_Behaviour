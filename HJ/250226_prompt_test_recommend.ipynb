{
 "cells": [
  {
   "cell_type": "markdown",
   "id": "79ce10fb-4b29-41cc-b3c1-863e665d69bf",
   "metadata": {},
   "source": [
    "프롬프트 엔지니어링"
   ]
  },
  {
   "cell_type": "markdown",
   "id": "26434806-14c4-4027-b7bf-b38ad801aed4",
   "metadata": {},
   "source": [
    "# 1. 키워드 추출"
   ]
  },
  {
   "cell_type": "markdown",
   "id": "634ea3b1",
   "metadata": {},
   "source": [
    "## 1-1) 키워드 추출 함수"
   ]
  },
  {
   "cell_type": "code",
   "execution_count": 1,
   "id": "03959127-4b94-4160-9cb5-e3e7d718fa0f",
   "metadata": {},
   "outputs": [],
   "source": [
    "import openai\n",
    "import os\n",
    "\n",
    "# ✅ OpenAI API Key 설정\n",
    "api_key = '' \n",
    "\n",
    "client = openai.OpenAI(api_key=api_key)\n",
    "\n",
    "\n",
    "def get_keyword(user_input):  \n",
    "    \"\"\"OpenAI API를 사용하여 5개의 키워드를 추출하는 함수\"\"\"\n",
    "    try:\n",
    "        # 시스템 프롬프트 정의\n",
    "        system_prompt = f\"\"\"\n",
    "        [역할]       \n",
    "        너는 사람들의 취미 영역을 듣고, 거기서 사람들이 중요하게 생각하는 스마트폰의 기능을 키워드화해서 출력해줘. \n",
    "        반드시 아래 기준을 지켜줘야 해. \n",
    "\n",
    "        [기준]\n",
    "        1. 사용자의 취미에 중요한 스마트폰 기능/사양/부품을 추천해줘. \n",
    "        2. 5개의 키워드를 쉼표(,)로 구분해서 한 줄로만 제공해줘. \n",
    "            네가 출력하는 응답은 키워드 5개 이외의 다른 텍스트를 포함하면 절대 안 돼.\n",
    "        3. 각 키워드는 한 단어고, 5글자 이내여야 해. 간결할 수록 좋아. \n",
    "        4. 키워드는 사람들이 일상에서 많이 사용하는 쉬운 단어를 선택해. \n",
    "        5. 너무 기술적이거나 긴 단어는 피해줘(예. '스타일러스', '조리개', '이퀄라이저' 제외).  \n",
    "        6. 위의 사항들을 꼭 지켜서 알려줘. \n",
    "\n",
    "        [예시]\n",
    "        사용자 입력 : '사진 촬영'\n",
    "        \n",
    "        원하는 결과 : '배터리', '사이즈', '화질', '용량', '초점'\n",
    "        \"\"\"\n",
    "\n",
    "        # 사용자 입력 포함\n",
    "        user_prompt = f'\"{user_input}과 관련된 스마트폰 기능 키워드 5개를 알려줘.'\n",
    "\n",
    "        # OpenAI API 호출\n",
    "        response = client.chat.completions.create(\n",
    "            model=\"gpt-4o-mini\",\n",
    "            messages=[\n",
    "                {\"role\": \"system\", \"content\": system_prompt},\n",
    "                {\"role\": \"user\", \"content\": user_prompt}\n",
    "            ]\n",
    "        )\n",
    "\n",
    "        # 응답 데이터 처리\n",
    "        raw_output = response.choices[0].message.content.strip()\n",
    "        raw_output = raw_output.replace(\"'\",'').split(',')\n",
    "        return [res.strip() for res in raw_output]\n",
    "\n",
    "    except Exception as e:\n",
    "        print(f\"오류 발생: {e}\")\n",
    "        return []\n",
    "    "
   ]
  },
  {
   "cell_type": "code",
   "execution_count": 4,
   "id": "45b348e9-0280-47de-9a6b-7412262a2154",
   "metadata": {},
   "outputs": [
    {
     "data": {
      "text/plain": [
       "['배터리', '내비', '방수', '무게', 'GPS']"
      ]
     },
     "execution_count": 4,
     "metadata": {},
     "output_type": "execute_result"
    }
   ],
   "source": [
    "output = get_keyword('등산')\n",
    "output"
   ]
  },
  {
   "cell_type": "code",
   "execution_count": 3,
   "id": "d438bad8-52fd-4983-92a2-e21d81c2e3ad",
   "metadata": {},
   "outputs": [
    {
     "data": {
      "text/plain": [
       "['헬스', '배터리', '위치', '시간', '앱']"
      ]
     },
     "execution_count": 3,
     "metadata": {},
     "output_type": "execute_result"
    }
   ],
   "source": [
    "output = get_keyword('운동')\n",
    "output"
   ]
  },
  {
   "cell_type": "code",
   "execution_count": 4,
   "id": "41f5e482-f8c1-4a0c-ad42-956220dc98d4",
   "metadata": {},
   "outputs": [
    {
     "data": {
      "text/plain": [
       "['화면', '배터리', '용량', '사이즈', '해상도']"
      ]
     },
     "execution_count": 4,
     "metadata": {},
     "output_type": "execute_result"
    }
   ],
   "source": [
    "output = get_keyword('만화책 읽기')\n",
    "output"
   ]
  },
  {
   "cell_type": "code",
   "execution_count": 6,
   "id": "383dcf87-30c7-4b93-89b5-93f0e334736c",
   "metadata": {
    "scrolled": true
   },
   "outputs": [
    {
     "name": "stdout",
     "output_type": "stream",
     "text": [
      "\n",
      "        ▶ user_input\n",
      "        영상 제작\n",
      "        \n",
      "        ▶ output\n",
      "        ['배터리', '화질', '용량', '렌즈', '화면']\n",
      "        \n",
      "\n",
      "        ▶ user_input\n",
      "        사진 촬영\n",
      "        \n",
      "        ▶ output\n",
      "        ['배터리', '사이즈', '해상도', '렌즈', '소음']\n",
      "        \n",
      "\n",
      "        ▶ user_input\n",
      "        디지털 아트\n",
      "        \n",
      "        ▶ output\n",
      "        ['펜슬', '화질', '화면', '배터리', '용량']\n",
      "        \n",
      "\n",
      "        ▶ user_input\n",
      "        음악 & 사운드\n",
      "        \n",
      "        ▶ output\n",
      "        ['음량', '소리', '배터리', '팬텀', '스트림']\n",
      "        \n",
      "\n",
      "        ▶ user_input\n",
      "        쇼핑 & 패션\n",
      "        \n",
      "        ▶ output\n",
      "        ['화면', '배터리', '카메라', '속도', '용량']\n",
      "        \n",
      "\n",
      "        ▶ user_input\n",
      "        SNS & 커뮤니티\n",
      "        \n",
      "        ▶ output\n",
      "        ['화면', '속도', '앱', '카메라', '배터리']\n",
      "        \n",
      "\n",
      "        ▶ user_input\n",
      "        여행 & 탐방\n",
      "        \n",
      "        ▶ output\n",
      "        ['배터리', '화질', 'GPS', '용량', '사이즈']\n",
      "        \n",
      "\n",
      "        ▶ user_input\n",
      "        모바일 게임\n",
      "        \n",
      "        ▶ output\n",
      "        ['배터리', '화면', '속도', '메모리', '소리']\n",
      "        \n",
      "\n",
      "        ▶ user_input\n",
      "        독서 & 필기\n",
      "        \n",
      "        ▶ output\n",
      "        ['화면', '저장', '배터리', '사이즈', '속도']\n",
      "        \n",
      "\n",
      "        ▶ user_input\n",
      "        운동 & 건강\n",
      "        \n",
      "        ▶ output\n",
      "        ['배터리', '센서', '용량', '화면', '앱제']\n",
      "        \n",
      "\n",
      "        ▶ user_input\n",
      "        영상 제작\n",
      "        \n",
      "        ▶ output\n",
      "        ['배터리', '화질', '저장', '렌즈', '소리']\n",
      "        \n",
      "\n",
      "        ▶ user_input\n",
      "        사진 촬영\n",
      "        \n",
      "        ▶ output\n",
      "        ['배터리', '화질', '렌즈', '영상', '초점']\n",
      "        \n",
      "\n",
      "        ▶ user_input\n",
      "        디지털 아트\n",
      "        \n",
      "        ▶ output\n",
      "        ['화질', '배터리', '사이즈', '속도', '컬러']\n",
      "        \n",
      "\n",
      "        ▶ user_input\n",
      "        음악 & 사운드\n",
      "        \n",
      "        ▶ output\n",
      "        ['배터리', '음질', '용량', '스피커', '헤드폰']\n",
      "        \n",
      "\n",
      "        ▶ user_input\n",
      "        쇼핑 & 패션\n",
      "        \n",
      "        ▶ output\n",
      "        ['카메라', '화질', '배터리', '사이즈', '인터넷']\n",
      "        \n",
      "\n",
      "        ▶ user_input\n",
      "        SNS & 커뮤니티\n",
      "        \n",
      "        ▶ output\n",
      "        ['인터넷', '화면', '카메라', '알림', '배터리']\n",
      "        \n",
      "\n",
      "        ▶ user_input\n",
      "        여행 & 탐방\n",
      "        \n",
      "        ▶ output\n",
      "        ['배터리', '화질', 'GPS', '자리', '용량']\n",
      "        \n",
      "\n",
      "        ▶ user_input\n",
      "        모바일 게임\n",
      "        \n",
      "        ▶ output\n",
      "        ['배터리', '화면', '속도', '용량', '그래픽']\n",
      "        \n",
      "\n",
      "        ▶ user_input\n",
      "        독서 & 필기\n",
      "        \n",
      "        ▶ output\n",
      "        ['화질', '배터리', '화면', '앱', '용량']\n",
      "        \n",
      "\n",
      "        ▶ user_input\n",
      "        운동 & 건강\n",
      "        \n",
      "        ▶ output\n",
      "        ['배터리', '센서', '앱', '화면', 'GPS']\n",
      "        \n",
      "\n",
      "        ▶ user_input\n",
      "        영상 제작\n",
      "        \n",
      "        ▶ output\n",
      "        ['화질', '배터리', '저장', '속도', '앱']\n",
      "        \n",
      "\n",
      "        ▶ user_input\n",
      "        사진 촬영\n",
      "        \n",
      "        ▶ output\n",
      "        ['배터리', '화질', '렌즈', '초점', '앱']\n",
      "        \n",
      "\n",
      "        ▶ user_input\n",
      "        디지털 아트\n",
      "        \n",
      "        ▶ output\n",
      "        ['펜슬', '화질', '배터리', '화면', '용량']\n",
      "        \n",
      "\n",
      "        ▶ user_input\n",
      "        음악 & 사운드\n",
      "        \n",
      "        ▶ output\n",
      "        ['음질', '스피커', '배터리', '용량', '앱']\n",
      "        \n",
      "\n",
      "        ▶ user_input\n",
      "        쇼핑 & 패션\n",
      "        \n",
      "        ▶ output\n",
      "        ['카메라', '화질', '용량', '사이즈', '배터리']\n",
      "        \n",
      "\n",
      "        ▶ user_input\n",
      "        SNS & 커뮤니티\n",
      "        \n",
      "        ▶ output\n",
      "        ['화질', '배터리', '속도', '디자인', '화상']\n",
      "        \n",
      "\n",
      "        ▶ user_input\n",
      "        여행 & 탐방\n",
      "        \n",
      "        ▶ output\n",
      "        ['카메라', '배터리', 'GPS', '화질', '앱']\n",
      "        \n",
      "\n",
      "        ▶ user_input\n",
      "        모바일 게임\n",
      "        \n",
      "        ▶ output\n",
      "        ['배터리', '화질', '속도', '튀김', '크기']\n",
      "        \n",
      "\n",
      "        ▶ user_input\n",
      "        독서 & 필기\n",
      "        \n",
      "        ▶ output\n",
      "        ['화질', '디스플', '용량', '앱', '배터리']\n",
      "        \n",
      "\n",
      "        ▶ user_input\n",
      "        운동 & 건강\n",
      "        \n",
      "        ▶ output\n",
      "        ['앱', '센서', '배터리', '알림', 'GPS']\n",
      "        \n"
     ]
    }
   ],
   "source": [
    "import pandas as pd \n",
    "user_inputs = ['영상 제작', '사진 촬영', '디지털 아트', '음악 & 사운드', '쇼핑 & 패션', 'SNS & 커뮤니티', '여행 & 탐방', '모바일 게임', '독서 & 필기', '운동 & 건강']\n",
    "\n",
    "res = []\n",
    "cnt = 0\n",
    "while cnt < 3:\n",
    "    for user_input in user_inputs:\n",
    "        output = get_keyword(user_input)\n",
    "        print(f'''\n",
    "        ▶ user_input\n",
    "        {user_input}\n",
    "        \n",
    "        ▶ output\n",
    "        {output}\n",
    "        ''')\n",
    "        res_output = []\n",
    "        for i in output:\n",
    "            res_output.append(i.split(','))\n",
    "        res.append([user_input, res_output])\n",
    "    cnt += 1\n",
    "\n",
    "#pd.DataFrame(res, columns = ['user_input', 'outputs']).sort_values('user_input', ascending = False).to_csv('250221_LLM_4omini_test.csv', encoding = 'utf-8', index = False)"
   ]
  },
  {
   "cell_type": "code",
   "execution_count": null,
   "id": "ee92f728-1f31-4c6c-bf6f-fe709b9661ce",
   "metadata": {},
   "outputs": [],
   "source": []
  },
  {
   "cell_type": "markdown",
   "id": "2a5922a6",
   "metadata": {},
   "source": [
    "## 1-2) DB 저장"
   ]
  },
  {
   "cell_type": "markdown",
   "id": "0dde4888",
   "metadata": {
    "scrolled": true
   },
   "source": [
    "✅ 1️⃣ 실시간으로 LLM 호출 & DB 저장 후 반환 (권장)  \n",
    "📌 원리:  \n",
    "\n",
    "사용자가 웹에서 취미 입력  \n",
    "DB에서 해당 취미의 키워드 검색  \n",
    "있으면 바로 반환  \n",
    "없으면 get_keyword() 실행 후 DB에 저장, 그리고 반환  \n",
    "\n",
    "\n",
    "아래 내용 확인 필요>"
   ]
  },
  {
   "cell_type": "markdown",
   "id": "cec57d46-c0fa-4496-8c87-4257cb0cf0ed",
   "metadata": {},
   "source": [
    "MySQL 테이블 생성 (MySQL에서 실행)"
   ]
  },
  {
   "cell_type": "code",
   "execution_count": null,
   "id": "a85aa388-73ea-4993-9257-adfdd901a96c",
   "metadata": {},
   "outputs": [],
   "source": [
    "# 테이블 생성\n",
    "\n",
    "USE SNS_DB;\n",
    "\n",
    "CREATE TABLE hobbies (\n",
    "    id INT AUTO_INCREMENT PRIMARY KEY, # 고유번호\n",
    "    user_id INT NOT NULL, # 사용자ID\n",
    "    hobby_area VARCHAR(255) NOT NULL, # 취미 영역\n",
    "    keyword1 VARCHAR(100), # 키워드 1\n",
    "    keyword2 VARCHAR(100), # 키워드 2\n",
    "    keyword3 VARCHAR(100), # 키워드 3\n",
    "    keyword4 VARCHAR(100), # 키워드 4\n",
    "    keyword5 VARCHAR(100) # 키워드 5\n",
    ");\n",
    "\n",
    "# 샘플 데이터 삽입\n",
    "\n",
    "INSERT INTO hobbies (user_id, hobby_area, keyword1, keyword2, keyword3, keyword4, keyword5)\n",
    "VALUES \n",
    "(1, '사진촬영', '화질', '색감', '해상도', '밝기', '렌즈'),\n",
    "(2, '등산', '화질', '배터리', '무게', '방수', 'GPS');"
   ]
  },
  {
   "cell_type": "markdown",
   "id": "bc402011-6248-45a4-b495-1dabe7b2b6f1",
   "metadata": {},
   "source": [
    "MySQL 서버 접속(python)"
   ]
  },
  {
   "cell_type": "code",
   "execution_count": 2,
   "id": "b8bf2eb6-bb95-4aed-aad4-de0c0e86dc36",
   "metadata": {},
   "outputs": [],
   "source": [
    "host_ip = \"15.168.221.131\"  \n",
    "DATABASE = \"SNS_DB\"\n",
    "user_id = \"lab13\"\n",
    "user_password = \"lab13\"\n",
    "mysql_url = f\"jdbc:mysql://{host_ip}:3306/{DATABASE}\""
   ]
  },
  {
   "cell_type": "code",
   "execution_count": 5,
   "id": "de384b1c-48b1-46f9-96e2-125d100d7621",
   "metadata": {},
   "outputs": [
    {
     "name": "stdout",
     "output_type": "stream",
     "text": [
      "📌 테이블 목록: [('tbCrawled_Danawa',), ('tbCrawled_Youtube',)]\n"
     ]
    }
   ],
   "source": [
    "import mysql.connector\n",
    "\n",
    "# MySQL 연결 설정\n",
    "conn = mysql.connector.connect(\n",
    "    host='localhost',\n",
    "    user='lab13',\n",
    "    password='lab13',\n",
    "    database='SNS_DB',\n",
    "    charset='utf8mb4'\n",
    ")\n",
    "\n",
    "cursor = conn.cursor()\n",
    "\n",
    "# 테이블 목록 확인\n",
    "cursor.execute(\"SHOW TABLES;\")\n",
    "tables = cursor.fetchall()\n",
    "print(\"📌 테이블 목록:\", tables)"
   ]
  },
  {
   "cell_type": "code",
   "execution_count": null,
   "id": "4d7387f1-c463-448d-b591-3e46eb6efa71",
   "metadata": {},
   "outputs": [],
   "source": [
    "# 취미 영역과 키워드 가져오기\n",
    "cursor.execute(\"SELECT hobby_area, keyword1, keyword2, keyword3, keyword4, keyword5 FROM hobbies;\")\n",
    "result = cursor.fetchall()\n",
    "\n",
    "# 결과 출력\n",
    "for row in result:\n",
    "    hobby_area, *keywords = row\n",
    "    print(f\"취미: {hobby_area}, 키워드: {', '.join(filter(None, keywords))}\")\n",
    "\n"
   ]
  },
  {
   "cell_type": "code",
   "execution_count": null,
   "id": "329b9d77-c86c-492b-adb6-3adbb89a3da6",
   "metadata": {},
   "outputs": [],
   "source": [
    "\n"
   ]
  },
  {
   "cell_type": "code",
   "execution_count": null,
   "id": "0338b6c1-7b69-4945-9c87-cd0198b0d1ac",
   "metadata": {},
   "outputs": [],
   "source": []
  },
  {
   "cell_type": "markdown",
   "id": "402cee70-4b48-4a5e-ab27-924627166d99",
   "metadata": {},
   "source": [
    "# 2. 스마트폰 추천"
   ]
  },
  {
   "cell_type": "code",
   "execution_count": null,
   "id": "651a2e29-fe85-41f4-99c0-ccd41bfcf345",
   "metadata": {},
   "outputs": [],
   "source": [
    "import openai\n",
    "import os\n",
    "\n",
    "# ✅ OpenAI API Key 설정\n",
    "api_key = '' \n",
    "\n",
    "client = openai.OpenAI(api_key=api_key)\n",
    "\n",
    "\n",
    "def phone_recommend(user_input):  \n",
    "    \"\"\"OpenAI API를 사용하여 스마트폰을 추천하는 함수\"\"\"\n",
    "    try:\n",
    "        # 시스템 프롬프트 정의\n",
    "        system_prompt = f\"\"\"\n",
    "        [역할]       \n",
    "        사람들의 취미 영역과 그 영역에서 중요한 스마트폰의 주요 기능 키워드 5개를 듣고 스마트폰 기종을 추천해줘.\n",
    "        반드시 아래 기준을 지켜줘야 해. \n",
    "\n",
    "        [기준]\n",
    "        1. 추천하는 스마트폰 기종은 3가지 종류야. \n",
    "        2. 네가 추천하는 스마트폰 기종은 현재 시점으로 단종되지 않은 기종이어야 해. \n",
    "        3. 각 기종의 기종명과 함께 유저가 입력한 기능 키워드와 관련한 기능에 대한 정보를 함께 알려줘. \n",
    "        4. 위의 사항들을 꼭 지켜서 알려줘. \n",
    "\n",
    "        \"\"\"\n",
    "\n",
    "\n",
    "    "
   ]
  },
  {
   "cell_type": "code",
   "execution_count": null,
   "id": "11a6448b-2b6a-4193-93d8-c8470a2b9cf7",
   "metadata": {},
   "outputs": [],
   "source": [
    "# (검토중)\n",
    "        # 사용자 입력 포함\n",
    "        user_prompt = f'\"{user_input}과 관련된 스마트폰 기능 키워드 5개를 알려줘.'\n",
    "\n",
    "        # OpenAI API 호출\n",
    "        response = client.chat.completions.create(\n",
    "            model=\"gpt-4o-mini\",\n",
    "            messages=[\n",
    "                {\"role\": \"system\", \"content\": system_prompt},\n",
    "                {\"role\": \"user\", \"content\": user_prompt}\n",
    "            ]\n",
    "        )\n",
    "\n",
    "        # 응답 데이터 처리\n",
    "        raw_output = response.choices[0].message.content.strip()\n",
    "        raw_output = raw_output.replace(\"'\",'').split(',')\n",
    "        return [res.strip() for res in raw_output]\n",
    "\n",
    "    except Exception as e:\n",
    "        print(f\"오류 발생: {e}\")\n",
    "        return []"
   ]
  },
  {
   "cell_type": "code",
   "execution_count": null,
   "id": "4909ae8c-d97c-41f7-837e-524ec50e29de",
   "metadata": {},
   "outputs": [],
   "source": [
    "# 검토중\n",
    "import openai\n",
    "\n",
    "if result:\n",
    "    hobby_area, *keywords = result[0]  # 첫 번째 사용자 데이터만 활용\n",
    "    keyword_list = \", \".join(filter(None, keywords))\n",
    "\n",
    "    prompt = f\"\"\"\n",
    "    내가 스마트폰을 사려고 해. \n",
    "    내 취미는 '{hobby_area}'이고, 내가 중요시 하는 스마트폰의 기능은 {keyword_list}야. \n",
    "    2025년 2월 기준으로 현재 구매 가능한 스마트폰 중에서, 나에게 잘 맞을 것 같은 기종 3개를 추천해줘.\n",
    "    \"\"\"\n",
    "else:\n",
    "    prompt = \"내가 스마트폰을 사려고 해. 사진 촬영이 취미고, 내가 중요시 하는 스마트폰의 기능은 화질, 색감, 해상도, 밝기, 렌즈야. 2025년 2월 기준으로 현재 구매 가능한 스마트폰 중에서, 나에게 잘 맞을 것 같은 기종 3개를 추천해줘.\"\n",
    "\n",
    "response = openai.ChatCompletion.create(\n",
    "    model=\"gpt-4\",\n",
    "    messages=[{\"role\": \"user\", \"content\": prompt}],\n",
    "    temperature=0.7,\n",
    "    max_tokens=500\n",
    ")\n",
    "\n",
    "print(response[\"choices\"][0][\"message\"][\"content\"])"
   ]
  },
  {
   "cell_type": "code",
   "execution_count": null,
   "id": "122ac118-e24a-427f-9c41-e88567dee204",
   "metadata": {},
   "outputs": [],
   "source": []
  },
  {
   "cell_type": "code",
   "execution_count": null,
   "id": "4c5aca29-db39-4236-8d84-5593d6faadf0",
   "metadata": {},
   "outputs": [],
   "source": []
  },
  {
   "cell_type": "code",
   "execution_count": null,
   "id": "85cb8cbc-fd81-44cb-afa8-26961ac26e15",
   "metadata": {},
   "outputs": [],
   "source": []
  },
  {
   "cell_type": "code",
   "execution_count": null,
   "id": "c1e6ad51-30fa-4315-a84d-f2e04b7e66a1",
   "metadata": {},
   "outputs": [],
   "source": []
  },
  {
   "cell_type": "code",
   "execution_count": null,
   "id": "eaba6f39-95b0-4454-a78a-cc527cc9cc34",
   "metadata": {},
   "outputs": [],
   "source": []
  },
  {
   "cell_type": "code",
   "execution_count": null,
   "id": "5bd9c966-983f-4cb3-b7e9-82ef59744ff4",
   "metadata": {},
   "outputs": [],
   "source": []
  }
 ],
 "metadata": {
  "kernelspec": {
   "display_name": "Project",
   "language": "python",
   "name": "project"
  },
  "language_info": {
   "codemirror_mode": {
    "name": "ipython",
    "version": 3
   },
   "file_extension": ".py",
   "mimetype": "text/x-python",
   "name": "python",
   "nbconvert_exporter": "python",
   "pygments_lexer": "ipython3",
   "version": "3.8.0"
  }
 },
 "nbformat": 4,
 "nbformat_minor": 5
}
