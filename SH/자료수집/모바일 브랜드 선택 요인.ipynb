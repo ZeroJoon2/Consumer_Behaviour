{
 "cells": [
  {
   "cell_type": "markdown",
   "metadata": {},
   "source": [
    "# [ 모바일 브랜드 선택 요인 ]"
   ]
  },
  {
   "cell_type": "markdown",
   "metadata": {},
   "source": [
    "## < \"모바일 데이터서비스 선택 결정요인에 관한 연구\" >"
   ]
  },
  {
   "cell_type": "markdown",
   "metadata": {},
   "source": [
    "## < \"모바일 서비스 사용의 영향 요인에 관한 연구\" >"
   ]
  },
  {
   "cell_type": "markdown",
   "metadata": {},
   "source": [
    "### 1. 요약\n",
    "- 모바일 서비스 사용을 미치는 요인들을 문헌 연구에서 추출하여서 알려주고 있음. 소비자들이 모바이 서비스 선택하고 사용하는데 영향을 주는 요인에 대해 파악가능\n",
    "\n",
    "### 2. 주제 및 내용\n",
    " 1) 주제: 모바일 서비스 수용에 영향을 미치는 심리적, 기술적 요인\n",
    " 2) 선호부분\n",
    " - 서비스 다양성: 다양한 앱, 컨텐츠 제공이 유용성\n",
    " - 인지된 용인성: 사용 편의성에 대해 유용한지와 이것이 어떻게 긍정적인 영향을 주는지\n",
    " - 개인 혁신성: 새로운 기술 수용 성향이 사용 의도에 직접적으로 영향을 주는지"
   ]
  },
  {
   "cell_type": "markdown",
   "metadata": {},
   "source": [
    "## < 선택요인 결론 >\n",
    "- 전송속도, 데이터제공량, 가격(요금제), 부가서비스, 제품속성, 서비스속성, 모바일 서비스속성, 유용성"
   ]
  },
  {
   "cell_type": "markdown",
   "metadata": {},
   "source": []
  }
 ],
 "metadata": {
  "language_info": {
   "name": "python"
  }
 },
 "nbformat": 4,
 "nbformat_minor": 2
}
